{
 "cells": [
  {
   "cell_type": "code",
   "execution_count": 2,
   "id": "initial_id",
   "metadata": {
    "collapsed": true,
    "ExecuteTime": {
     "end_time": "2024-08-23T04:05:16.681822Z",
     "start_time": "2024-08-23T04:05:16.679300Z"
    }
   },
   "outputs": [],
   "source": [
    "from pathlib import Path\n",
    "import pandas as pd\n",
    "import numpy as np"
   ]
  },
  {
   "cell_type": "code",
   "outputs": [],
   "source": [
    "CURRENT_DIR = Path.cwd()\n",
    "DATA_DIR = CURRENT_DIR / 'data'"
   ],
   "metadata": {
    "collapsed": false,
    "ExecuteTime": {
     "end_time": "2024-08-23T04:05:18.948565Z",
     "start_time": "2024-08-23T04:05:18.946423Z"
    }
   },
   "id": "2c1d0d26b690f28c",
   "execution_count": 4
  },
  {
   "cell_type": "markdown",
   "source": [
    "Load Roster"
   ],
   "metadata": {
    "collapsed": false
   },
   "id": "ea23f6dd98f97e9b"
  },
  {
   "cell_type": "code",
   "outputs": [],
   "source": [
    "roster = pd.read_csv(DATA_DIR / 'roster.csv',\n",
    "            converters={\"NetID\": str.lower, \"Email Address\": str.lower},\n",
    "            usecols=[\"Section\", \"Email Address\", \"NetID\"],\n",
    "            index_col=\"NetID\")"
   ],
   "metadata": {
    "collapsed": false,
    "ExecuteTime": {
     "end_time": "2024-08-23T04:09:30.785297Z",
     "start_time": "2024-08-23T04:09:30.776883Z"
    }
   },
   "id": "e799ee010810b058",
   "execution_count": 9
  },
  {
   "cell_type": "code",
   "outputs": [
    {
     "data": {
      "text/plain": "                      Email Address  Section\nNetID                                       \nwxb12345  woody.barrera_jr@univ.edu        1\nmxl12345   malaika.lambert@univ.edu        2\ntxj12345       traci.joyce@univ.edu        1\njgf12345   john.g.2.flower@univ.edu        3\nsmj00936     stacy.johnson@univ.edu        2\nrxs30280  richard.saunders@univ.edu        1\ndma58910    daisy.anderson@univ.edu        2\nhsw06874      holly.watson@univ.edu        2\nbkr19538     brandy.reilly@univ.edu        2\nlxc64780   lorraine.carter@univ.edu        2",
      "text/html": "<div>\n<style scoped>\n    .dataframe tbody tr th:only-of-type {\n        vertical-align: middle;\n    }\n\n    .dataframe tbody tr th {\n        vertical-align: top;\n    }\n\n    .dataframe thead th {\n        text-align: right;\n    }\n</style>\n<table border=\"1\" class=\"dataframe\">\n  <thead>\n    <tr style=\"text-align: right;\">\n      <th></th>\n      <th>Email Address</th>\n      <th>Section</th>\n    </tr>\n    <tr>\n      <th>NetID</th>\n      <th></th>\n      <th></th>\n    </tr>\n  </thead>\n  <tbody>\n    <tr>\n      <th>wxb12345</th>\n      <td>woody.barrera_jr@univ.edu</td>\n      <td>1</td>\n    </tr>\n    <tr>\n      <th>mxl12345</th>\n      <td>malaika.lambert@univ.edu</td>\n      <td>2</td>\n    </tr>\n    <tr>\n      <th>txj12345</th>\n      <td>traci.joyce@univ.edu</td>\n      <td>1</td>\n    </tr>\n    <tr>\n      <th>jgf12345</th>\n      <td>john.g.2.flower@univ.edu</td>\n      <td>3</td>\n    </tr>\n    <tr>\n      <th>smj00936</th>\n      <td>stacy.johnson@univ.edu</td>\n      <td>2</td>\n    </tr>\n    <tr>\n      <th>rxs30280</th>\n      <td>richard.saunders@univ.edu</td>\n      <td>1</td>\n    </tr>\n    <tr>\n      <th>dma58910</th>\n      <td>daisy.anderson@univ.edu</td>\n      <td>2</td>\n    </tr>\n    <tr>\n      <th>hsw06874</th>\n      <td>holly.watson@univ.edu</td>\n      <td>2</td>\n    </tr>\n    <tr>\n      <th>bkr19538</th>\n      <td>brandy.reilly@univ.edu</td>\n      <td>2</td>\n    </tr>\n    <tr>\n      <th>lxc64780</th>\n      <td>lorraine.carter@univ.edu</td>\n      <td>2</td>\n    </tr>\n  </tbody>\n</table>\n</div>"
     },
     "execution_count": 10,
     "metadata": {},
     "output_type": "execute_result"
    }
   ],
   "source": [
    "roster.head(10)"
   ],
   "metadata": {
    "collapsed": false,
    "ExecuteTime": {
     "end_time": "2024-08-23T04:09:57.919481Z",
     "start_time": "2024-08-23T04:09:57.915469Z"
    }
   },
   "id": "e8577c0ce7430e9f",
   "execution_count": 10
  },
  {
   "cell_type": "markdown",
   "source": [
    "Load Homework Assignments and Exam Grades File"
   ],
   "metadata": {
    "collapsed": false
   },
   "id": "ea82f7c6e699b20f"
  },
  {
   "cell_type": "code",
   "outputs": [],
   "source": [
    "hw_exam_grades = pd.read_csv(\n",
    "    DATA_DIR / 'hw_exam_grades.csv',\n",
    "    converters={\"SID\": str.lower},\n",
    "    usecols=lambda title: \"Submission\" not in title,\n",
    "    index_col=\"SID\"\n",
    ")"
   ],
   "metadata": {
    "collapsed": false,
    "ExecuteTime": {
     "end_time": "2024-08-23T04:13:19.987121Z",
     "start_time": "2024-08-23T04:13:19.981818Z"
    }
   },
   "id": "d04169eb108f838d",
   "execution_count": 16
  },
  {
   "cell_type": "code",
   "outputs": [
    {
     "data": {
      "text/plain": "         First Name  Last Name  Homework 1  Homework 1 - Max Points  \\\nSID                                                                   \naxl60952      Aaron     Lester        68.0                       80   \namc28428       Adam     Cooper        80.0                       80   \naxc64717       Alec      Curry        69.0                       80   \nakr14831  Alexander  Rodriguez        50.0                       80   \naxd11293      Amber    Daniels        54.0                       80   \n\n          Homework 2  Homework 2 - Max Points  Homework 3  \\\nSID                                                         \naxl60952          74                       80          77   \namc28428          78                       80          78   \naxc64717          76                       80          66   \nakr14831          54                       80          74   \naxd11293          57                       80          77   \n\n          Homework 3 - Max Points  Homework 4  Homework 4 - Max Points  ...  \\\nSID                                                                     ...   \naxl60952                       80          89                      100  ...   \namc28428                       80          87                      100  ...   \naxc64717                       80          87                      100  ...   \nakr14831                       80          75                      100  ...   \naxd11293                       80          95                      100  ...   \n\n          Homework 9  Homework 9 - Max Points  Homework 10  \\\nSID                                                          \naxl60952          42                       60           41   \namc28428          45                       60           53   \naxc64717          58                       60           42   \nakr14831          38                       60           47   \naxd11293          46                       60           59   \n\n          Homework 10 - Max Points  Exam 1  Exam 1 - Max Points  Exam 2  \\\nSID                                                                       \naxl60952                        60      79                  100      63   \namc28428                        60      65                  100      63   \naxc64717                        60      65                  100      78   \nakr14831                        60      97                  100      97   \naxd11293                        60      68                  100      95   \n\n          Exam 2 - Max Points  Exam 3  Exam 3 - Max Points  \nSID                                                         \naxl60952                  100      68                  100  \namc28428                  100      90                  100  \naxc64717                  100      83                  100  \nakr14831                  100      81                  100  \naxd11293                  100      88                  100  \n\n[5 rows x 28 columns]",
      "text/html": "<div>\n<style scoped>\n    .dataframe tbody tr th:only-of-type {\n        vertical-align: middle;\n    }\n\n    .dataframe tbody tr th {\n        vertical-align: top;\n    }\n\n    .dataframe thead th {\n        text-align: right;\n    }\n</style>\n<table border=\"1\" class=\"dataframe\">\n  <thead>\n    <tr style=\"text-align: right;\">\n      <th></th>\n      <th>First Name</th>\n      <th>Last Name</th>\n      <th>Homework 1</th>\n      <th>Homework 1 - Max Points</th>\n      <th>Homework 2</th>\n      <th>Homework 2 - Max Points</th>\n      <th>Homework 3</th>\n      <th>Homework 3 - Max Points</th>\n      <th>Homework 4</th>\n      <th>Homework 4 - Max Points</th>\n      <th>...</th>\n      <th>Homework 9</th>\n      <th>Homework 9 - Max Points</th>\n      <th>Homework 10</th>\n      <th>Homework 10 - Max Points</th>\n      <th>Exam 1</th>\n      <th>Exam 1 - Max Points</th>\n      <th>Exam 2</th>\n      <th>Exam 2 - Max Points</th>\n      <th>Exam 3</th>\n      <th>Exam 3 - Max Points</th>\n    </tr>\n    <tr>\n      <th>SID</th>\n      <th></th>\n      <th></th>\n      <th></th>\n      <th></th>\n      <th></th>\n      <th></th>\n      <th></th>\n      <th></th>\n      <th></th>\n      <th></th>\n      <th></th>\n      <th></th>\n      <th></th>\n      <th></th>\n      <th></th>\n      <th></th>\n      <th></th>\n      <th></th>\n      <th></th>\n      <th></th>\n      <th></th>\n    </tr>\n  </thead>\n  <tbody>\n    <tr>\n      <th>axl60952</th>\n      <td>Aaron</td>\n      <td>Lester</td>\n      <td>68.0</td>\n      <td>80</td>\n      <td>74</td>\n      <td>80</td>\n      <td>77</td>\n      <td>80</td>\n      <td>89</td>\n      <td>100</td>\n      <td>...</td>\n      <td>42</td>\n      <td>60</td>\n      <td>41</td>\n      <td>60</td>\n      <td>79</td>\n      <td>100</td>\n      <td>63</td>\n      <td>100</td>\n      <td>68</td>\n      <td>100</td>\n    </tr>\n    <tr>\n      <th>amc28428</th>\n      <td>Adam</td>\n      <td>Cooper</td>\n      <td>80.0</td>\n      <td>80</td>\n      <td>78</td>\n      <td>80</td>\n      <td>78</td>\n      <td>80</td>\n      <td>87</td>\n      <td>100</td>\n      <td>...</td>\n      <td>45</td>\n      <td>60</td>\n      <td>53</td>\n      <td>60</td>\n      <td>65</td>\n      <td>100</td>\n      <td>63</td>\n      <td>100</td>\n      <td>90</td>\n      <td>100</td>\n    </tr>\n    <tr>\n      <th>axc64717</th>\n      <td>Alec</td>\n      <td>Curry</td>\n      <td>69.0</td>\n      <td>80</td>\n      <td>76</td>\n      <td>80</td>\n      <td>66</td>\n      <td>80</td>\n      <td>87</td>\n      <td>100</td>\n      <td>...</td>\n      <td>58</td>\n      <td>60</td>\n      <td>42</td>\n      <td>60</td>\n      <td>65</td>\n      <td>100</td>\n      <td>78</td>\n      <td>100</td>\n      <td>83</td>\n      <td>100</td>\n    </tr>\n    <tr>\n      <th>akr14831</th>\n      <td>Alexander</td>\n      <td>Rodriguez</td>\n      <td>50.0</td>\n      <td>80</td>\n      <td>54</td>\n      <td>80</td>\n      <td>74</td>\n      <td>80</td>\n      <td>75</td>\n      <td>100</td>\n      <td>...</td>\n      <td>38</td>\n      <td>60</td>\n      <td>47</td>\n      <td>60</td>\n      <td>97</td>\n      <td>100</td>\n      <td>97</td>\n      <td>100</td>\n      <td>81</td>\n      <td>100</td>\n    </tr>\n    <tr>\n      <th>axd11293</th>\n      <td>Amber</td>\n      <td>Daniels</td>\n      <td>54.0</td>\n      <td>80</td>\n      <td>57</td>\n      <td>80</td>\n      <td>77</td>\n      <td>80</td>\n      <td>95</td>\n      <td>100</td>\n      <td>...</td>\n      <td>46</td>\n      <td>60</td>\n      <td>59</td>\n      <td>60</td>\n      <td>68</td>\n      <td>100</td>\n      <td>95</td>\n      <td>100</td>\n      <td>88</td>\n      <td>100</td>\n    </tr>\n  </tbody>\n</table>\n<p>5 rows × 28 columns</p>\n</div>"
     },
     "execution_count": 17,
     "metadata": {},
     "output_type": "execute_result"
    }
   ],
   "source": [
    "hw_exam_grades.head(5)"
   ],
   "metadata": {
    "collapsed": false,
    "ExecuteTime": {
     "end_time": "2024-08-23T04:13:20.526781Z",
     "start_time": "2024-08-23T04:13:20.520076Z"
    }
   },
   "id": "e8ff3276b2d0a7e",
   "execution_count": 17
  },
  {
   "cell_type": "markdown",
   "source": [
    "Load quiz grades"
   ],
   "metadata": {
    "collapsed": false
   },
   "id": "927a788a30776782"
  },
  {
   "cell_type": "code",
   "outputs": [],
   "source": [
    "quiz_grades = pd.DataFrame()\n",
    "for file_path in DATA_DIR.glob(\"quiz_*_grades.csv\"):\n",
    "    \n",
    "    quiz_name = \" \".join(file_path.stem.title().split(\"_\")[:2])\n",
    "    quiz = pd.read_csv(\n",
    "        file_path,\n",
    "        converters={\"Email\": str.lower},\n",
    "        index_col=['Email'],\n",
    "        usecols=['Email', 'Grade']\n",
    "    ).rename(columns={\"Grade\": quiz_name})\n",
    "    \n",
    "    quiz_grades = pd.concat([quiz_grades, quiz], axis=1)"
   ],
   "metadata": {
    "collapsed": false,
    "ExecuteTime": {
     "end_time": "2024-08-23T04:41:35.559761Z",
     "start_time": "2024-08-23T04:41:35.518912Z"
    }
   },
   "id": "f01736d04285c0e7",
   "execution_count": 20
  },
  {
   "cell_type": "code",
   "outputs": [
    {
     "data": {
      "text/plain": "                        Quiz 5  Quiz 2  Quiz 4  Quiz 1  Quiz 3\nEmail                                                         \nrachel.dennis@univ.edu      11       6       6       7       7\ncourtney.wolf@univ.edu       9      15       7      10       9\naaron.lester@univ.edu        8       9       8       6      10\nashley.martin@univ.edu      11       7      13       5       8\njessica.garza@univ.edu      10       8      11       8      16",
      "text/html": "<div>\n<style scoped>\n    .dataframe tbody tr th:only-of-type {\n        vertical-align: middle;\n    }\n\n    .dataframe tbody tr th {\n        vertical-align: top;\n    }\n\n    .dataframe thead th {\n        text-align: right;\n    }\n</style>\n<table border=\"1\" class=\"dataframe\">\n  <thead>\n    <tr style=\"text-align: right;\">\n      <th></th>\n      <th>Quiz 5</th>\n      <th>Quiz 2</th>\n      <th>Quiz 4</th>\n      <th>Quiz 1</th>\n      <th>Quiz 3</th>\n    </tr>\n    <tr>\n      <th>Email</th>\n      <th></th>\n      <th></th>\n      <th></th>\n      <th></th>\n      <th></th>\n    </tr>\n  </thead>\n  <tbody>\n    <tr>\n      <th>rachel.dennis@univ.edu</th>\n      <td>11</td>\n      <td>6</td>\n      <td>6</td>\n      <td>7</td>\n      <td>7</td>\n    </tr>\n    <tr>\n      <th>courtney.wolf@univ.edu</th>\n      <td>9</td>\n      <td>15</td>\n      <td>7</td>\n      <td>10</td>\n      <td>9</td>\n    </tr>\n    <tr>\n      <th>aaron.lester@univ.edu</th>\n      <td>8</td>\n      <td>9</td>\n      <td>8</td>\n      <td>6</td>\n      <td>10</td>\n    </tr>\n    <tr>\n      <th>ashley.martin@univ.edu</th>\n      <td>11</td>\n      <td>7</td>\n      <td>13</td>\n      <td>5</td>\n      <td>8</td>\n    </tr>\n    <tr>\n      <th>jessica.garza@univ.edu</th>\n      <td>10</td>\n      <td>8</td>\n      <td>11</td>\n      <td>8</td>\n      <td>16</td>\n    </tr>\n  </tbody>\n</table>\n</div>"
     },
     "execution_count": 21,
     "metadata": {},
     "output_type": "execute_result"
    }
   ],
   "source": [
    "quiz_grades.head(5)"
   ],
   "metadata": {
    "collapsed": false,
    "ExecuteTime": {
     "end_time": "2024-08-23T04:41:36.320958Z",
     "start_time": "2024-08-23T04:41:36.315890Z"
    }
   },
   "id": "4b3ba6abee7110a3",
   "execution_count": 21
  },
  {
   "cell_type": "code",
   "outputs": [],
   "source": [],
   "metadata": {
    "collapsed": false
   },
   "id": "b1638f6dcafe852a"
  }
 ],
 "metadata": {
  "kernelspec": {
   "display_name": "Python 3",
   "language": "python",
   "name": "python3"
  },
  "language_info": {
   "codemirror_mode": {
    "name": "ipython",
    "version": 2
   },
   "file_extension": ".py",
   "mimetype": "text/x-python",
   "name": "python",
   "nbconvert_exporter": "python",
   "pygments_lexer": "ipython2",
   "version": "2.7.6"
  }
 },
 "nbformat": 4,
 "nbformat_minor": 5
}
