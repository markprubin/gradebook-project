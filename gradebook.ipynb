{
 "cells": [
  {
   "cell_type": "code",
   "execution_count": 121,
   "id": "initial_id",
   "metadata": {
    "collapsed": true,
    "ExecuteTime": {
     "end_time": "2024-08-24T05:16:47.477940Z",
     "start_time": "2024-08-24T05:16:46.398403Z"
    }
   },
   "outputs": [],
   "source": [
    "from pathlib import Path\n",
    "import pandas as pd\n",
    "import numpy as np\n",
    "import matplotlib.pyplot as plt\n",
    "import scipy.stats"
   ]
  },
  {
   "cell_type": "code",
   "outputs": [],
   "source": [
    "CURRENT_DIR = Path.cwd()\n",
    "DATA_DIR = CURRENT_DIR / 'data'"
   ],
   "metadata": {
    "collapsed": false,
    "ExecuteTime": {
     "end_time": "2024-08-24T03:47:43.721121Z",
     "start_time": "2024-08-24T03:47:43.716218Z"
    }
   },
   "id": "2c1d0d26b690f28c",
   "execution_count": 23
  },
  {
   "cell_type": "markdown",
   "source": [
    "Load Roster"
   ],
   "metadata": {
    "collapsed": false
   },
   "id": "ea23f6dd98f97e9b"
  },
  {
   "cell_type": "code",
   "outputs": [],
   "source": [
    "roster = pd.read_csv(DATA_DIR / 'roster.csv',\n",
    "            converters={\"NetID\": str.lower, \"Email Address\": str.lower},\n",
    "            usecols=[\"Section\", \"Email Address\", \"NetID\"],\n",
    "            index_col=\"NetID\")"
   ],
   "metadata": {
    "collapsed": false,
    "ExecuteTime": {
     "end_time": "2024-08-24T03:47:43.756017Z",
     "start_time": "2024-08-24T03:47:43.722127Z"
    }
   },
   "id": "e799ee010810b058",
   "execution_count": 24
  },
  {
   "cell_type": "code",
   "outputs": [
    {
     "data": {
      "text/plain": "                      Email Address  Section\nNetID                                       \nwxb12345  woody.barrera_jr@univ.edu        1\nmxl12345   malaika.lambert@univ.edu        2\ntxj12345       traci.joyce@univ.edu        1\njgf12345   john.g.2.flower@univ.edu        3\nsmj00936     stacy.johnson@univ.edu        2\nrxs30280  richard.saunders@univ.edu        1\ndma58910    daisy.anderson@univ.edu        2\nhsw06874      holly.watson@univ.edu        2\nbkr19538     brandy.reilly@univ.edu        2\nlxc64780   lorraine.carter@univ.edu        2",
      "text/html": "<div>\n<style scoped>\n    .dataframe tbody tr th:only-of-type {\n        vertical-align: middle;\n    }\n\n    .dataframe tbody tr th {\n        vertical-align: top;\n    }\n\n    .dataframe thead th {\n        text-align: right;\n    }\n</style>\n<table border=\"1\" class=\"dataframe\">\n  <thead>\n    <tr style=\"text-align: right;\">\n      <th></th>\n      <th>Email Address</th>\n      <th>Section</th>\n    </tr>\n    <tr>\n      <th>NetID</th>\n      <th></th>\n      <th></th>\n    </tr>\n  </thead>\n  <tbody>\n    <tr>\n      <th>wxb12345</th>\n      <td>woody.barrera_jr@univ.edu</td>\n      <td>1</td>\n    </tr>\n    <tr>\n      <th>mxl12345</th>\n      <td>malaika.lambert@univ.edu</td>\n      <td>2</td>\n    </tr>\n    <tr>\n      <th>txj12345</th>\n      <td>traci.joyce@univ.edu</td>\n      <td>1</td>\n    </tr>\n    <tr>\n      <th>jgf12345</th>\n      <td>john.g.2.flower@univ.edu</td>\n      <td>3</td>\n    </tr>\n    <tr>\n      <th>smj00936</th>\n      <td>stacy.johnson@univ.edu</td>\n      <td>2</td>\n    </tr>\n    <tr>\n      <th>rxs30280</th>\n      <td>richard.saunders@univ.edu</td>\n      <td>1</td>\n    </tr>\n    <tr>\n      <th>dma58910</th>\n      <td>daisy.anderson@univ.edu</td>\n      <td>2</td>\n    </tr>\n    <tr>\n      <th>hsw06874</th>\n      <td>holly.watson@univ.edu</td>\n      <td>2</td>\n    </tr>\n    <tr>\n      <th>bkr19538</th>\n      <td>brandy.reilly@univ.edu</td>\n      <td>2</td>\n    </tr>\n    <tr>\n      <th>lxc64780</th>\n      <td>lorraine.carter@univ.edu</td>\n      <td>2</td>\n    </tr>\n  </tbody>\n</table>\n</div>"
     },
     "execution_count": 25,
     "metadata": {},
     "output_type": "execute_result"
    }
   ],
   "source": [
    "roster.head(10)"
   ],
   "metadata": {
    "collapsed": false,
    "ExecuteTime": {
     "end_time": "2024-08-24T03:47:43.767108Z",
     "start_time": "2024-08-24T03:47:43.757455Z"
    }
   },
   "id": "e8577c0ce7430e9f",
   "execution_count": 25
  },
  {
   "cell_type": "markdown",
   "source": [
    "Load Homework Assignments and Exam Grades File"
   ],
   "metadata": {
    "collapsed": false
   },
   "id": "ea82f7c6e699b20f"
  },
  {
   "cell_type": "code",
   "outputs": [],
   "source": [
    "hw_exam_grades = pd.read_csv(\n",
    "    DATA_DIR / 'hw_exam_grades.csv',\n",
    "    converters={\"SID\": str.lower},\n",
    "    usecols=lambda title: \"Submission\" not in title,\n",
    "    index_col=\"SID\"\n",
    ")"
   ],
   "metadata": {
    "collapsed": false,
    "ExecuteTime": {
     "end_time": "2024-08-24T03:47:43.773419Z",
     "start_time": "2024-08-24T03:47:43.767799Z"
    }
   },
   "id": "d04169eb108f838d",
   "execution_count": 26
  },
  {
   "cell_type": "code",
   "outputs": [
    {
     "data": {
      "text/plain": "         First Name  Last Name  Homework 1  Homework 1 - Max Points  \\\nSID                                                                   \naxl60952      Aaron     Lester        68.0                       80   \namc28428       Adam     Cooper        80.0                       80   \naxc64717       Alec      Curry        69.0                       80   \nakr14831  Alexander  Rodriguez        50.0                       80   \naxd11293      Amber    Daniels        54.0                       80   \n\n          Homework 2  Homework 2 - Max Points  Homework 3  \\\nSID                                                         \naxl60952          74                       80          77   \namc28428          78                       80          78   \naxc64717          76                       80          66   \nakr14831          54                       80          74   \naxd11293          57                       80          77   \n\n          Homework 3 - Max Points  Homework 4  Homework 4 - Max Points  ...  \\\nSID                                                                     ...   \naxl60952                       80          89                      100  ...   \namc28428                       80          87                      100  ...   \naxc64717                       80          87                      100  ...   \nakr14831                       80          75                      100  ...   \naxd11293                       80          95                      100  ...   \n\n          Homework 9  Homework 9 - Max Points  Homework 10  \\\nSID                                                          \naxl60952          42                       60           41   \namc28428          45                       60           53   \naxc64717          58                       60           42   \nakr14831          38                       60           47   \naxd11293          46                       60           59   \n\n          Homework 10 - Max Points  Exam 1  Exam 1 - Max Points  Exam 2  \\\nSID                                                                       \naxl60952                        60      79                  100      63   \namc28428                        60      65                  100      63   \naxc64717                        60      65                  100      78   \nakr14831                        60      97                  100      97   \naxd11293                        60      68                  100      95   \n\n          Exam 2 - Max Points  Exam 3  Exam 3 - Max Points  \nSID                                                         \naxl60952                  100      68                  100  \namc28428                  100      90                  100  \naxc64717                  100      83                  100  \nakr14831                  100      81                  100  \naxd11293                  100      88                  100  \n\n[5 rows x 28 columns]",
      "text/html": "<div>\n<style scoped>\n    .dataframe tbody tr th:only-of-type {\n        vertical-align: middle;\n    }\n\n    .dataframe tbody tr th {\n        vertical-align: top;\n    }\n\n    .dataframe thead th {\n        text-align: right;\n    }\n</style>\n<table border=\"1\" class=\"dataframe\">\n  <thead>\n    <tr style=\"text-align: right;\">\n      <th></th>\n      <th>First Name</th>\n      <th>Last Name</th>\n      <th>Homework 1</th>\n      <th>Homework 1 - Max Points</th>\n      <th>Homework 2</th>\n      <th>Homework 2 - Max Points</th>\n      <th>Homework 3</th>\n      <th>Homework 3 - Max Points</th>\n      <th>Homework 4</th>\n      <th>Homework 4 - Max Points</th>\n      <th>...</th>\n      <th>Homework 9</th>\n      <th>Homework 9 - Max Points</th>\n      <th>Homework 10</th>\n      <th>Homework 10 - Max Points</th>\n      <th>Exam 1</th>\n      <th>Exam 1 - Max Points</th>\n      <th>Exam 2</th>\n      <th>Exam 2 - Max Points</th>\n      <th>Exam 3</th>\n      <th>Exam 3 - Max Points</th>\n    </tr>\n    <tr>\n      <th>SID</th>\n      <th></th>\n      <th></th>\n      <th></th>\n      <th></th>\n      <th></th>\n      <th></th>\n      <th></th>\n      <th></th>\n      <th></th>\n      <th></th>\n      <th></th>\n      <th></th>\n      <th></th>\n      <th></th>\n      <th></th>\n      <th></th>\n      <th></th>\n      <th></th>\n      <th></th>\n      <th></th>\n      <th></th>\n    </tr>\n  </thead>\n  <tbody>\n    <tr>\n      <th>axl60952</th>\n      <td>Aaron</td>\n      <td>Lester</td>\n      <td>68.0</td>\n      <td>80</td>\n      <td>74</td>\n      <td>80</td>\n      <td>77</td>\n      <td>80</td>\n      <td>89</td>\n      <td>100</td>\n      <td>...</td>\n      <td>42</td>\n      <td>60</td>\n      <td>41</td>\n      <td>60</td>\n      <td>79</td>\n      <td>100</td>\n      <td>63</td>\n      <td>100</td>\n      <td>68</td>\n      <td>100</td>\n    </tr>\n    <tr>\n      <th>amc28428</th>\n      <td>Adam</td>\n      <td>Cooper</td>\n      <td>80.0</td>\n      <td>80</td>\n      <td>78</td>\n      <td>80</td>\n      <td>78</td>\n      <td>80</td>\n      <td>87</td>\n      <td>100</td>\n      <td>...</td>\n      <td>45</td>\n      <td>60</td>\n      <td>53</td>\n      <td>60</td>\n      <td>65</td>\n      <td>100</td>\n      <td>63</td>\n      <td>100</td>\n      <td>90</td>\n      <td>100</td>\n    </tr>\n    <tr>\n      <th>axc64717</th>\n      <td>Alec</td>\n      <td>Curry</td>\n      <td>69.0</td>\n      <td>80</td>\n      <td>76</td>\n      <td>80</td>\n      <td>66</td>\n      <td>80</td>\n      <td>87</td>\n      <td>100</td>\n      <td>...</td>\n      <td>58</td>\n      <td>60</td>\n      <td>42</td>\n      <td>60</td>\n      <td>65</td>\n      <td>100</td>\n      <td>78</td>\n      <td>100</td>\n      <td>83</td>\n      <td>100</td>\n    </tr>\n    <tr>\n      <th>akr14831</th>\n      <td>Alexander</td>\n      <td>Rodriguez</td>\n      <td>50.0</td>\n      <td>80</td>\n      <td>54</td>\n      <td>80</td>\n      <td>74</td>\n      <td>80</td>\n      <td>75</td>\n      <td>100</td>\n      <td>...</td>\n      <td>38</td>\n      <td>60</td>\n      <td>47</td>\n      <td>60</td>\n      <td>97</td>\n      <td>100</td>\n      <td>97</td>\n      <td>100</td>\n      <td>81</td>\n      <td>100</td>\n    </tr>\n    <tr>\n      <th>axd11293</th>\n      <td>Amber</td>\n      <td>Daniels</td>\n      <td>54.0</td>\n      <td>80</td>\n      <td>57</td>\n      <td>80</td>\n      <td>77</td>\n      <td>80</td>\n      <td>95</td>\n      <td>100</td>\n      <td>...</td>\n      <td>46</td>\n      <td>60</td>\n      <td>59</td>\n      <td>60</td>\n      <td>68</td>\n      <td>100</td>\n      <td>95</td>\n      <td>100</td>\n      <td>88</td>\n      <td>100</td>\n    </tr>\n  </tbody>\n</table>\n<p>5 rows × 28 columns</p>\n</div>"
     },
     "execution_count": 27,
     "metadata": {},
     "output_type": "execute_result"
    }
   ],
   "source": [
    "hw_exam_grades.head(5)"
   ],
   "metadata": {
    "collapsed": false,
    "ExecuteTime": {
     "end_time": "2024-08-24T03:47:43.784989Z",
     "start_time": "2024-08-24T03:47:43.774223Z"
    }
   },
   "id": "e8ff3276b2d0a7e",
   "execution_count": 27
  },
  {
   "cell_type": "markdown",
   "source": [
    "Load quiz grades"
   ],
   "metadata": {
    "collapsed": false
   },
   "id": "927a788a30776782"
  },
  {
   "cell_type": "code",
   "outputs": [],
   "source": [
    "quiz_grades = pd.DataFrame()\n",
    "for file_path in DATA_DIR.glob(\"quiz_*_grades.csv\"):\n",
    "    \n",
    "    quiz_name = \" \".join(file_path.stem.title().split(\"_\")[:2])\n",
    "    quiz = pd.read_csv(\n",
    "        file_path,\n",
    "        converters={\"Email\": str.lower},\n",
    "        index_col=['Email'],\n",
    "        usecols=['Email', 'Grade']\n",
    "    ).rename(columns={\"Grade\": quiz_name})\n",
    "    \n",
    "    quiz_grades = pd.concat([quiz_grades, quiz], axis=1)"
   ],
   "metadata": {
    "collapsed": false,
    "ExecuteTime": {
     "end_time": "2024-08-24T03:47:43.804101Z",
     "start_time": "2024-08-24T03:47:43.785864Z"
    }
   },
   "id": "f01736d04285c0e7",
   "execution_count": 28
  },
  {
   "cell_type": "code",
   "outputs": [
    {
     "data": {
      "text/plain": "                        Quiz 5  Quiz 2  Quiz 4  Quiz 1  Quiz 3\nEmail                                                         \nrachel.dennis@univ.edu      11       6       6       7       7\ncourtney.wolf@univ.edu       9      15       7      10       9\naaron.lester@univ.edu        8       9       8       6      10\nashley.martin@univ.edu      11       7      13       5       8\njessica.garza@univ.edu      10       8      11       8      16",
      "text/html": "<div>\n<style scoped>\n    .dataframe tbody tr th:only-of-type {\n        vertical-align: middle;\n    }\n\n    .dataframe tbody tr th {\n        vertical-align: top;\n    }\n\n    .dataframe thead th {\n        text-align: right;\n    }\n</style>\n<table border=\"1\" class=\"dataframe\">\n  <thead>\n    <tr style=\"text-align: right;\">\n      <th></th>\n      <th>Quiz 5</th>\n      <th>Quiz 2</th>\n      <th>Quiz 4</th>\n      <th>Quiz 1</th>\n      <th>Quiz 3</th>\n    </tr>\n    <tr>\n      <th>Email</th>\n      <th></th>\n      <th></th>\n      <th></th>\n      <th></th>\n      <th></th>\n    </tr>\n  </thead>\n  <tbody>\n    <tr>\n      <th>rachel.dennis@univ.edu</th>\n      <td>11</td>\n      <td>6</td>\n      <td>6</td>\n      <td>7</td>\n      <td>7</td>\n    </tr>\n    <tr>\n      <th>courtney.wolf@univ.edu</th>\n      <td>9</td>\n      <td>15</td>\n      <td>7</td>\n      <td>10</td>\n      <td>9</td>\n    </tr>\n    <tr>\n      <th>aaron.lester@univ.edu</th>\n      <td>8</td>\n      <td>9</td>\n      <td>8</td>\n      <td>6</td>\n      <td>10</td>\n    </tr>\n    <tr>\n      <th>ashley.martin@univ.edu</th>\n      <td>11</td>\n      <td>7</td>\n      <td>13</td>\n      <td>5</td>\n      <td>8</td>\n    </tr>\n    <tr>\n      <th>jessica.garza@univ.edu</th>\n      <td>10</td>\n      <td>8</td>\n      <td>11</td>\n      <td>8</td>\n      <td>16</td>\n    </tr>\n  </tbody>\n</table>\n</div>"
     },
     "execution_count": 29,
     "metadata": {},
     "output_type": "execute_result"
    }
   ],
   "source": [
    "quiz_grades.head(5)"
   ],
   "metadata": {
    "collapsed": false,
    "ExecuteTime": {
     "end_time": "2024-08-24T03:47:43.809366Z",
     "start_time": "2024-08-24T03:47:43.805165Z"
    }
   },
   "id": "4b3ba6abee7110a3",
   "execution_count": 29
  },
  {
   "cell_type": "code",
   "outputs": [],
   "source": [
    "final_df = pd.merge(roster, hw_exam_grades, left_index=True, right_index=True)"
   ],
   "metadata": {
    "collapsed": false,
    "ExecuteTime": {
     "end_time": "2024-08-24T03:47:54.617853Z",
     "start_time": "2024-08-24T03:47:54.613756Z"
    }
   },
   "id": "b1638f6dcafe852a",
   "execution_count": 31
  },
  {
   "cell_type": "code",
   "outputs": [
    {
     "data": {
      "text/plain": "                      Email Address  Section First Name Last Name  Homework 1  \\\nwxb12345  woody.barrera_jr@univ.edu        1      Woody   Barrera        55.0   \nmxl12345   malaika.lambert@univ.edu        2    Malaika   Lambert        63.0   \ntxj12345       traci.joyce@univ.edu        1      Traci     Joyce         NaN   \njgf12345   john.g.2.flower@univ.edu        3      Gregg    Flower        69.0   \nsmj00936     stacy.johnson@univ.edu        2      Stacy   Johnson        74.0   \n\n          Homework 1 - Max Points  Homework 2  Homework 2 - Max Points  \\\nwxb12345                       80          62                       80   \nmxl12345                       80          57                       80   \ntxj12345                       80          77                       80   \njgf12345                       80          52                       80   \nsmj00936                       80          55                       80   \n\n          Homework 3  Homework 3 - Max Points  ...  Homework 9  \\\nwxb12345          73                       80  ...          45   \nmxl12345          78                       80  ...          45   \ntxj12345          58                       80  ...          59   \njgf12345          64                       80  ...          42   \nsmj00936          60                       80  ...          59   \n\n          Homework 9 - Max Points  Homework 10  Homework 10 - Max Points  \\\nwxb12345                       60           46                        60   \nmxl12345                       60           37                        60   \ntxj12345                       60           53                        60   \njgf12345                       60           40                        60   \nsmj00936                       60           48                        60   \n\n          Exam 1  Exam 1 - Max Points  Exam 2  Exam 2 - Max Points  Exam 3  \\\nwxb12345      86                  100      62                  100      90   \nmxl12345      60                  100      91                  100      93   \ntxj12345     100                  100      84                  100      64   \njgf12345      72                  100      83                  100      77   \nsmj00936      96                  100      80                  100      86   \n\n          Exam 3 - Max Points  \nwxb12345                  100  \nmxl12345                  100  \ntxj12345                  100  \njgf12345                  100  \nsmj00936                  100  \n\n[5 rows x 30 columns]",
      "text/html": "<div>\n<style scoped>\n    .dataframe tbody tr th:only-of-type {\n        vertical-align: middle;\n    }\n\n    .dataframe tbody tr th {\n        vertical-align: top;\n    }\n\n    .dataframe thead th {\n        text-align: right;\n    }\n</style>\n<table border=\"1\" class=\"dataframe\">\n  <thead>\n    <tr style=\"text-align: right;\">\n      <th></th>\n      <th>Email Address</th>\n      <th>Section</th>\n      <th>First Name</th>\n      <th>Last Name</th>\n      <th>Homework 1</th>\n      <th>Homework 1 - Max Points</th>\n      <th>Homework 2</th>\n      <th>Homework 2 - Max Points</th>\n      <th>Homework 3</th>\n      <th>Homework 3 - Max Points</th>\n      <th>...</th>\n      <th>Homework 9</th>\n      <th>Homework 9 - Max Points</th>\n      <th>Homework 10</th>\n      <th>Homework 10 - Max Points</th>\n      <th>Exam 1</th>\n      <th>Exam 1 - Max Points</th>\n      <th>Exam 2</th>\n      <th>Exam 2 - Max Points</th>\n      <th>Exam 3</th>\n      <th>Exam 3 - Max Points</th>\n    </tr>\n  </thead>\n  <tbody>\n    <tr>\n      <th>wxb12345</th>\n      <td>woody.barrera_jr@univ.edu</td>\n      <td>1</td>\n      <td>Woody</td>\n      <td>Barrera</td>\n      <td>55.0</td>\n      <td>80</td>\n      <td>62</td>\n      <td>80</td>\n      <td>73</td>\n      <td>80</td>\n      <td>...</td>\n      <td>45</td>\n      <td>60</td>\n      <td>46</td>\n      <td>60</td>\n      <td>86</td>\n      <td>100</td>\n      <td>62</td>\n      <td>100</td>\n      <td>90</td>\n      <td>100</td>\n    </tr>\n    <tr>\n      <th>mxl12345</th>\n      <td>malaika.lambert@univ.edu</td>\n      <td>2</td>\n      <td>Malaika</td>\n      <td>Lambert</td>\n      <td>63.0</td>\n      <td>80</td>\n      <td>57</td>\n      <td>80</td>\n      <td>78</td>\n      <td>80</td>\n      <td>...</td>\n      <td>45</td>\n      <td>60</td>\n      <td>37</td>\n      <td>60</td>\n      <td>60</td>\n      <td>100</td>\n      <td>91</td>\n      <td>100</td>\n      <td>93</td>\n      <td>100</td>\n    </tr>\n    <tr>\n      <th>txj12345</th>\n      <td>traci.joyce@univ.edu</td>\n      <td>1</td>\n      <td>Traci</td>\n      <td>Joyce</td>\n      <td>NaN</td>\n      <td>80</td>\n      <td>77</td>\n      <td>80</td>\n      <td>58</td>\n      <td>80</td>\n      <td>...</td>\n      <td>59</td>\n      <td>60</td>\n      <td>53</td>\n      <td>60</td>\n      <td>100</td>\n      <td>100</td>\n      <td>84</td>\n      <td>100</td>\n      <td>64</td>\n      <td>100</td>\n    </tr>\n    <tr>\n      <th>jgf12345</th>\n      <td>john.g.2.flower@univ.edu</td>\n      <td>3</td>\n      <td>Gregg</td>\n      <td>Flower</td>\n      <td>69.0</td>\n      <td>80</td>\n      <td>52</td>\n      <td>80</td>\n      <td>64</td>\n      <td>80</td>\n      <td>...</td>\n      <td>42</td>\n      <td>60</td>\n      <td>40</td>\n      <td>60</td>\n      <td>72</td>\n      <td>100</td>\n      <td>83</td>\n      <td>100</td>\n      <td>77</td>\n      <td>100</td>\n    </tr>\n    <tr>\n      <th>smj00936</th>\n      <td>stacy.johnson@univ.edu</td>\n      <td>2</td>\n      <td>Stacy</td>\n      <td>Johnson</td>\n      <td>74.0</td>\n      <td>80</td>\n      <td>55</td>\n      <td>80</td>\n      <td>60</td>\n      <td>80</td>\n      <td>...</td>\n      <td>59</td>\n      <td>60</td>\n      <td>48</td>\n      <td>60</td>\n      <td>96</td>\n      <td>100</td>\n      <td>80</td>\n      <td>100</td>\n      <td>86</td>\n      <td>100</td>\n    </tr>\n  </tbody>\n</table>\n<p>5 rows × 30 columns</p>\n</div>"
     },
     "execution_count": 32,
     "metadata": {},
     "output_type": "execute_result"
    }
   ],
   "source": [
    "final_df.head(5)"
   ],
   "metadata": {
    "collapsed": false,
    "ExecuteTime": {
     "end_time": "2024-08-24T03:47:57.796401Z",
     "start_time": "2024-08-24T03:47:57.789037Z"
    }
   },
   "id": "acac222270f0841",
   "execution_count": 32
  },
  {
   "cell_type": "code",
   "outputs": [],
   "source": [
    "final_df = pd.merge(final_df, quiz_grades, left_on='Email Address', right_index=True)"
   ],
   "metadata": {
    "collapsed": false,
    "ExecuteTime": {
     "end_time": "2024-08-24T03:50:10.297529Z",
     "start_time": "2024-08-24T03:50:10.264956Z"
    }
   },
   "id": "637e00105d5f696e",
   "execution_count": 33
  },
  {
   "cell_type": "code",
   "outputs": [
    {
     "data": {
      "text/plain": "                      Email Address  Section First Name Last Name  Homework 1  \\\nwxb12345  woody.barrera_jr@univ.edu        1      Woody   Barrera        55.0   \nmxl12345   malaika.lambert@univ.edu        2    Malaika   Lambert        63.0   \ntxj12345       traci.joyce@univ.edu        1      Traci     Joyce         NaN   \njgf12345   john.g.2.flower@univ.edu        3      Gregg    Flower        69.0   \nsmj00936     stacy.johnson@univ.edu        2      Stacy   Johnson        74.0   \n\n          Homework 1 - Max Points  Homework 2  Homework 2 - Max Points  \\\nwxb12345                       80          62                       80   \nmxl12345                       80          57                       80   \ntxj12345                       80          77                       80   \njgf12345                       80          52                       80   \nsmj00936                       80          55                       80   \n\n          Homework 3  Homework 3 - Max Points  ...  Exam 1 - Max Points  \\\nwxb12345          73                       80  ...                  100   \nmxl12345          78                       80  ...                  100   \ntxj12345          58                       80  ...                  100   \njgf12345          64                       80  ...                  100   \nsmj00936          60                       80  ...                  100   \n\n          Exam 2  Exam 2 - Max Points  Exam 3  Exam 3 - Max Points  Quiz 5  \\\nwxb12345      62                  100      90                  100      10   \nmxl12345      91                  100      93                  100       6   \ntxj12345      84                  100      64                  100       4   \njgf12345      83                  100      77                  100       5   \nsmj00936      80                  100      86                  100       7   \n\n          Quiz 2  Quiz 4  Quiz 1  Quiz 3  \nwxb12345      10       7       4      11  \nmxl12345      10      13       8      10  \ntxj12345       6       9       8      14  \njgf12345       8      13       8       8  \nsmj00936      14       7       6      11  \n\n[5 rows x 35 columns]",
      "text/html": "<div>\n<style scoped>\n    .dataframe tbody tr th:only-of-type {\n        vertical-align: middle;\n    }\n\n    .dataframe tbody tr th {\n        vertical-align: top;\n    }\n\n    .dataframe thead th {\n        text-align: right;\n    }\n</style>\n<table border=\"1\" class=\"dataframe\">\n  <thead>\n    <tr style=\"text-align: right;\">\n      <th></th>\n      <th>Email Address</th>\n      <th>Section</th>\n      <th>First Name</th>\n      <th>Last Name</th>\n      <th>Homework 1</th>\n      <th>Homework 1 - Max Points</th>\n      <th>Homework 2</th>\n      <th>Homework 2 - Max Points</th>\n      <th>Homework 3</th>\n      <th>Homework 3 - Max Points</th>\n      <th>...</th>\n      <th>Exam 1 - Max Points</th>\n      <th>Exam 2</th>\n      <th>Exam 2 - Max Points</th>\n      <th>Exam 3</th>\n      <th>Exam 3 - Max Points</th>\n      <th>Quiz 5</th>\n      <th>Quiz 2</th>\n      <th>Quiz 4</th>\n      <th>Quiz 1</th>\n      <th>Quiz 3</th>\n    </tr>\n  </thead>\n  <tbody>\n    <tr>\n      <th>wxb12345</th>\n      <td>woody.barrera_jr@univ.edu</td>\n      <td>1</td>\n      <td>Woody</td>\n      <td>Barrera</td>\n      <td>55.0</td>\n      <td>80</td>\n      <td>62</td>\n      <td>80</td>\n      <td>73</td>\n      <td>80</td>\n      <td>...</td>\n      <td>100</td>\n      <td>62</td>\n      <td>100</td>\n      <td>90</td>\n      <td>100</td>\n      <td>10</td>\n      <td>10</td>\n      <td>7</td>\n      <td>4</td>\n      <td>11</td>\n    </tr>\n    <tr>\n      <th>mxl12345</th>\n      <td>malaika.lambert@univ.edu</td>\n      <td>2</td>\n      <td>Malaika</td>\n      <td>Lambert</td>\n      <td>63.0</td>\n      <td>80</td>\n      <td>57</td>\n      <td>80</td>\n      <td>78</td>\n      <td>80</td>\n      <td>...</td>\n      <td>100</td>\n      <td>91</td>\n      <td>100</td>\n      <td>93</td>\n      <td>100</td>\n      <td>6</td>\n      <td>10</td>\n      <td>13</td>\n      <td>8</td>\n      <td>10</td>\n    </tr>\n    <tr>\n      <th>txj12345</th>\n      <td>traci.joyce@univ.edu</td>\n      <td>1</td>\n      <td>Traci</td>\n      <td>Joyce</td>\n      <td>NaN</td>\n      <td>80</td>\n      <td>77</td>\n      <td>80</td>\n      <td>58</td>\n      <td>80</td>\n      <td>...</td>\n      <td>100</td>\n      <td>84</td>\n      <td>100</td>\n      <td>64</td>\n      <td>100</td>\n      <td>4</td>\n      <td>6</td>\n      <td>9</td>\n      <td>8</td>\n      <td>14</td>\n    </tr>\n    <tr>\n      <th>jgf12345</th>\n      <td>john.g.2.flower@univ.edu</td>\n      <td>3</td>\n      <td>Gregg</td>\n      <td>Flower</td>\n      <td>69.0</td>\n      <td>80</td>\n      <td>52</td>\n      <td>80</td>\n      <td>64</td>\n      <td>80</td>\n      <td>...</td>\n      <td>100</td>\n      <td>83</td>\n      <td>100</td>\n      <td>77</td>\n      <td>100</td>\n      <td>5</td>\n      <td>8</td>\n      <td>13</td>\n      <td>8</td>\n      <td>8</td>\n    </tr>\n    <tr>\n      <th>smj00936</th>\n      <td>stacy.johnson@univ.edu</td>\n      <td>2</td>\n      <td>Stacy</td>\n      <td>Johnson</td>\n      <td>74.0</td>\n      <td>80</td>\n      <td>55</td>\n      <td>80</td>\n      <td>60</td>\n      <td>80</td>\n      <td>...</td>\n      <td>100</td>\n      <td>80</td>\n      <td>100</td>\n      <td>86</td>\n      <td>100</td>\n      <td>7</td>\n      <td>14</td>\n      <td>7</td>\n      <td>6</td>\n      <td>11</td>\n    </tr>\n  </tbody>\n</table>\n<p>5 rows × 35 columns</p>\n</div>"
     },
     "execution_count": 34,
     "metadata": {},
     "output_type": "execute_result"
    }
   ],
   "source": [
    "final_df.head(5)"
   ],
   "metadata": {
    "collapsed": false,
    "ExecuteTime": {
     "end_time": "2024-08-24T03:50:17.855062Z",
     "start_time": "2024-08-24T03:50:17.844013Z"
    }
   },
   "id": "e0ee57abffbe85a8",
   "execution_count": 34
  },
  {
   "cell_type": "code",
   "outputs": [],
   "source": [
    "final_df = final_df.fillna(0)"
   ],
   "metadata": {
    "collapsed": false,
    "ExecuteTime": {
     "end_time": "2024-08-24T04:01:06.263016Z",
     "start_time": "2024-08-24T04:01:06.253517Z"
    }
   },
   "id": "3a5182229c0da789",
   "execution_count": 35
  },
  {
   "cell_type": "code",
   "outputs": [
    {
     "data": {
      "text/plain": "                      Email Address  Section First Name Last Name  Homework 1  \\\nwxb12345  woody.barrera_jr@univ.edu        1      Woody   Barrera        55.0   \nmxl12345   malaika.lambert@univ.edu        2    Malaika   Lambert        63.0   \ntxj12345       traci.joyce@univ.edu        1      Traci     Joyce         0.0   \njgf12345   john.g.2.flower@univ.edu        3      Gregg    Flower        69.0   \nsmj00936     stacy.johnson@univ.edu        2      Stacy   Johnson        74.0   \n\n          Homework 1 - Max Points  Homework 2  Homework 2 - Max Points  \\\nwxb12345                       80          62                       80   \nmxl12345                       80          57                       80   \ntxj12345                       80          77                       80   \njgf12345                       80          52                       80   \nsmj00936                       80          55                       80   \n\n          Homework 3  Homework 3 - Max Points  ...  Exam 1 - Max Points  \\\nwxb12345          73                       80  ...                  100   \nmxl12345          78                       80  ...                  100   \ntxj12345          58                       80  ...                  100   \njgf12345          64                       80  ...                  100   \nsmj00936          60                       80  ...                  100   \n\n          Exam 2  Exam 2 - Max Points  Exam 3  Exam 3 - Max Points  Quiz 5  \\\nwxb12345      62                  100      90                  100      10   \nmxl12345      91                  100      93                  100       6   \ntxj12345      84                  100      64                  100       4   \njgf12345      83                  100      77                  100       5   \nsmj00936      80                  100      86                  100       7   \n\n          Quiz 2  Quiz 4  Quiz 1  Quiz 3  \nwxb12345      10       7       4      11  \nmxl12345      10      13       8      10  \ntxj12345       6       9       8      14  \njgf12345       8      13       8       8  \nsmj00936      14       7       6      11  \n\n[5 rows x 35 columns]",
      "text/html": "<div>\n<style scoped>\n    .dataframe tbody tr th:only-of-type {\n        vertical-align: middle;\n    }\n\n    .dataframe tbody tr th {\n        vertical-align: top;\n    }\n\n    .dataframe thead th {\n        text-align: right;\n    }\n</style>\n<table border=\"1\" class=\"dataframe\">\n  <thead>\n    <tr style=\"text-align: right;\">\n      <th></th>\n      <th>Email Address</th>\n      <th>Section</th>\n      <th>First Name</th>\n      <th>Last Name</th>\n      <th>Homework 1</th>\n      <th>Homework 1 - Max Points</th>\n      <th>Homework 2</th>\n      <th>Homework 2 - Max Points</th>\n      <th>Homework 3</th>\n      <th>Homework 3 - Max Points</th>\n      <th>...</th>\n      <th>Exam 1 - Max Points</th>\n      <th>Exam 2</th>\n      <th>Exam 2 - Max Points</th>\n      <th>Exam 3</th>\n      <th>Exam 3 - Max Points</th>\n      <th>Quiz 5</th>\n      <th>Quiz 2</th>\n      <th>Quiz 4</th>\n      <th>Quiz 1</th>\n      <th>Quiz 3</th>\n    </tr>\n  </thead>\n  <tbody>\n    <tr>\n      <th>wxb12345</th>\n      <td>woody.barrera_jr@univ.edu</td>\n      <td>1</td>\n      <td>Woody</td>\n      <td>Barrera</td>\n      <td>55.0</td>\n      <td>80</td>\n      <td>62</td>\n      <td>80</td>\n      <td>73</td>\n      <td>80</td>\n      <td>...</td>\n      <td>100</td>\n      <td>62</td>\n      <td>100</td>\n      <td>90</td>\n      <td>100</td>\n      <td>10</td>\n      <td>10</td>\n      <td>7</td>\n      <td>4</td>\n      <td>11</td>\n    </tr>\n    <tr>\n      <th>mxl12345</th>\n      <td>malaika.lambert@univ.edu</td>\n      <td>2</td>\n      <td>Malaika</td>\n      <td>Lambert</td>\n      <td>63.0</td>\n      <td>80</td>\n      <td>57</td>\n      <td>80</td>\n      <td>78</td>\n      <td>80</td>\n      <td>...</td>\n      <td>100</td>\n      <td>91</td>\n      <td>100</td>\n      <td>93</td>\n      <td>100</td>\n      <td>6</td>\n      <td>10</td>\n      <td>13</td>\n      <td>8</td>\n      <td>10</td>\n    </tr>\n    <tr>\n      <th>txj12345</th>\n      <td>traci.joyce@univ.edu</td>\n      <td>1</td>\n      <td>Traci</td>\n      <td>Joyce</td>\n      <td>0.0</td>\n      <td>80</td>\n      <td>77</td>\n      <td>80</td>\n      <td>58</td>\n      <td>80</td>\n      <td>...</td>\n      <td>100</td>\n      <td>84</td>\n      <td>100</td>\n      <td>64</td>\n      <td>100</td>\n      <td>4</td>\n      <td>6</td>\n      <td>9</td>\n      <td>8</td>\n      <td>14</td>\n    </tr>\n    <tr>\n      <th>jgf12345</th>\n      <td>john.g.2.flower@univ.edu</td>\n      <td>3</td>\n      <td>Gregg</td>\n      <td>Flower</td>\n      <td>69.0</td>\n      <td>80</td>\n      <td>52</td>\n      <td>80</td>\n      <td>64</td>\n      <td>80</td>\n      <td>...</td>\n      <td>100</td>\n      <td>83</td>\n      <td>100</td>\n      <td>77</td>\n      <td>100</td>\n      <td>5</td>\n      <td>8</td>\n      <td>13</td>\n      <td>8</td>\n      <td>8</td>\n    </tr>\n    <tr>\n      <th>smj00936</th>\n      <td>stacy.johnson@univ.edu</td>\n      <td>2</td>\n      <td>Stacy</td>\n      <td>Johnson</td>\n      <td>74.0</td>\n      <td>80</td>\n      <td>55</td>\n      <td>80</td>\n      <td>60</td>\n      <td>80</td>\n      <td>...</td>\n      <td>100</td>\n      <td>80</td>\n      <td>100</td>\n      <td>86</td>\n      <td>100</td>\n      <td>7</td>\n      <td>14</td>\n      <td>7</td>\n      <td>6</td>\n      <td>11</td>\n    </tr>\n  </tbody>\n</table>\n<p>5 rows × 35 columns</p>\n</div>"
     },
     "execution_count": 36,
     "metadata": {},
     "output_type": "execute_result"
    }
   ],
   "source": [
    "final_df.head(5)"
   ],
   "metadata": {
    "collapsed": false,
    "ExecuteTime": {
     "end_time": "2024-08-24T04:01:09.423119Z",
     "start_time": "2024-08-24T04:01:09.415435Z"
    }
   },
   "id": "db2e4e3e61bda4fd",
   "execution_count": 36
  },
  {
   "cell_type": "markdown",
   "source": [
    "### Calculate the three assessment types in the course:\n",
    "1. Exams \n",
    "2. Homework\n",
    "3. Quizzes\n",
    "\n",
    "Each assessment type will be assigned a weight (percent of final grade) to get a final grade"
   ],
   "metadata": {
    "collapsed": false
   },
   "id": "11fb5dc5538702bd"
  },
  {
   "cell_type": "markdown",
   "source": [
    "#### Exam Grades"
   ],
   "metadata": {
    "collapsed": false
   },
   "id": "30f5e41b9bfa60d"
  },
  {
   "cell_type": "code",
   "outputs": [],
   "source": [
    "n_exams = 3\n",
    "for n in range(1, n_exams + 1):\n",
    "    final_df[f'Exam {n} Score'] = final_df[f'Exam {n}'] / final_df[f'Exam {n} - Max Points']"
   ],
   "metadata": {
    "collapsed": false,
    "ExecuteTime": {
     "end_time": "2024-08-24T04:06:52.769801Z",
     "start_time": "2024-08-24T04:06:52.743111Z"
    }
   },
   "id": "5fe937e12db889b7",
   "execution_count": 37
  },
  {
   "cell_type": "code",
   "outputs": [
    {
     "data": {
      "text/plain": "                      Email Address  Section First Name Last Name  Homework 1  \\\nwxb12345  woody.barrera_jr@univ.edu        1      Woody   Barrera        55.0   \nmxl12345   malaika.lambert@univ.edu        2    Malaika   Lambert        63.0   \ntxj12345       traci.joyce@univ.edu        1      Traci     Joyce         0.0   \njgf12345   john.g.2.flower@univ.edu        3      Gregg    Flower        69.0   \nsmj00936     stacy.johnson@univ.edu        2      Stacy   Johnson        74.0   \n\n          Homework 1 - Max Points  Homework 2  Homework 2 - Max Points  \\\nwxb12345                       80          62                       80   \nmxl12345                       80          57                       80   \ntxj12345                       80          77                       80   \njgf12345                       80          52                       80   \nsmj00936                       80          55                       80   \n\n          Homework 3  Homework 3 - Max Points  ...  Exam 3  \\\nwxb12345          73                       80  ...      90   \nmxl12345          78                       80  ...      93   \ntxj12345          58                       80  ...      64   \njgf12345          64                       80  ...      77   \nsmj00936          60                       80  ...      86   \n\n          Exam 3 - Max Points  Quiz 5  Quiz 2  Quiz 4  Quiz 1  Quiz 3  \\\nwxb12345                  100      10      10       7       4      11   \nmxl12345                  100       6      10      13       8      10   \ntxj12345                  100       4       6       9       8      14   \njgf12345                  100       5       8      13       8       8   \nsmj00936                  100       7      14       7       6      11   \n\n          Exam 1 Score  Exam 2 Score  Exam 3 Score  \nwxb12345          0.86          0.62          0.90  \nmxl12345          0.60          0.91          0.93  \ntxj12345          1.00          0.84          0.64  \njgf12345          0.72          0.83          0.77  \nsmj00936          0.96          0.80          0.86  \n\n[5 rows x 38 columns]",
      "text/html": "<div>\n<style scoped>\n    .dataframe tbody tr th:only-of-type {\n        vertical-align: middle;\n    }\n\n    .dataframe tbody tr th {\n        vertical-align: top;\n    }\n\n    .dataframe thead th {\n        text-align: right;\n    }\n</style>\n<table border=\"1\" class=\"dataframe\">\n  <thead>\n    <tr style=\"text-align: right;\">\n      <th></th>\n      <th>Email Address</th>\n      <th>Section</th>\n      <th>First Name</th>\n      <th>Last Name</th>\n      <th>Homework 1</th>\n      <th>Homework 1 - Max Points</th>\n      <th>Homework 2</th>\n      <th>Homework 2 - Max Points</th>\n      <th>Homework 3</th>\n      <th>Homework 3 - Max Points</th>\n      <th>...</th>\n      <th>Exam 3</th>\n      <th>Exam 3 - Max Points</th>\n      <th>Quiz 5</th>\n      <th>Quiz 2</th>\n      <th>Quiz 4</th>\n      <th>Quiz 1</th>\n      <th>Quiz 3</th>\n      <th>Exam 1 Score</th>\n      <th>Exam 2 Score</th>\n      <th>Exam 3 Score</th>\n    </tr>\n  </thead>\n  <tbody>\n    <tr>\n      <th>wxb12345</th>\n      <td>woody.barrera_jr@univ.edu</td>\n      <td>1</td>\n      <td>Woody</td>\n      <td>Barrera</td>\n      <td>55.0</td>\n      <td>80</td>\n      <td>62</td>\n      <td>80</td>\n      <td>73</td>\n      <td>80</td>\n      <td>...</td>\n      <td>90</td>\n      <td>100</td>\n      <td>10</td>\n      <td>10</td>\n      <td>7</td>\n      <td>4</td>\n      <td>11</td>\n      <td>0.86</td>\n      <td>0.62</td>\n      <td>0.90</td>\n    </tr>\n    <tr>\n      <th>mxl12345</th>\n      <td>malaika.lambert@univ.edu</td>\n      <td>2</td>\n      <td>Malaika</td>\n      <td>Lambert</td>\n      <td>63.0</td>\n      <td>80</td>\n      <td>57</td>\n      <td>80</td>\n      <td>78</td>\n      <td>80</td>\n      <td>...</td>\n      <td>93</td>\n      <td>100</td>\n      <td>6</td>\n      <td>10</td>\n      <td>13</td>\n      <td>8</td>\n      <td>10</td>\n      <td>0.60</td>\n      <td>0.91</td>\n      <td>0.93</td>\n    </tr>\n    <tr>\n      <th>txj12345</th>\n      <td>traci.joyce@univ.edu</td>\n      <td>1</td>\n      <td>Traci</td>\n      <td>Joyce</td>\n      <td>0.0</td>\n      <td>80</td>\n      <td>77</td>\n      <td>80</td>\n      <td>58</td>\n      <td>80</td>\n      <td>...</td>\n      <td>64</td>\n      <td>100</td>\n      <td>4</td>\n      <td>6</td>\n      <td>9</td>\n      <td>8</td>\n      <td>14</td>\n      <td>1.00</td>\n      <td>0.84</td>\n      <td>0.64</td>\n    </tr>\n    <tr>\n      <th>jgf12345</th>\n      <td>john.g.2.flower@univ.edu</td>\n      <td>3</td>\n      <td>Gregg</td>\n      <td>Flower</td>\n      <td>69.0</td>\n      <td>80</td>\n      <td>52</td>\n      <td>80</td>\n      <td>64</td>\n      <td>80</td>\n      <td>...</td>\n      <td>77</td>\n      <td>100</td>\n      <td>5</td>\n      <td>8</td>\n      <td>13</td>\n      <td>8</td>\n      <td>8</td>\n      <td>0.72</td>\n      <td>0.83</td>\n      <td>0.77</td>\n    </tr>\n    <tr>\n      <th>smj00936</th>\n      <td>stacy.johnson@univ.edu</td>\n      <td>2</td>\n      <td>Stacy</td>\n      <td>Johnson</td>\n      <td>74.0</td>\n      <td>80</td>\n      <td>55</td>\n      <td>80</td>\n      <td>60</td>\n      <td>80</td>\n      <td>...</td>\n      <td>86</td>\n      <td>100</td>\n      <td>7</td>\n      <td>14</td>\n      <td>7</td>\n      <td>6</td>\n      <td>11</td>\n      <td>0.96</td>\n      <td>0.80</td>\n      <td>0.86</td>\n    </tr>\n  </tbody>\n</table>\n<p>5 rows × 38 columns</p>\n</div>"
     },
     "execution_count": 38,
     "metadata": {},
     "output_type": "execute_result"
    }
   ],
   "source": [
    "final_df.head(5)"
   ],
   "metadata": {
    "collapsed": false,
    "ExecuteTime": {
     "end_time": "2024-08-24T04:06:59.408294Z",
     "start_time": "2024-08-24T04:06:59.400223Z"
    }
   },
   "id": "316a59e3c59770f4",
   "execution_count": 38
  },
  {
   "cell_type": "markdown",
   "source": [
    "#### Homework Assignments"
   ],
   "metadata": {
    "collapsed": false
   },
   "id": "c8e110ce7bbdc280"
  },
  {
   "cell_type": "code",
   "outputs": [
    {
     "data": {
      "text/plain": "          Homework 1 - Max Points  Homework 2 - Max Points  \\\nwxb12345                       80                       80   \nmxl12345                       80                       80   \ntxj12345                       80                       80   \njgf12345                       80                       80   \nsmj00936                       80                       80   \n...                           ...                      ...   \npmj37756                       80                       80   \ndsl24347                       80                       80   \nnxe44872                       80                       80   \nbxr62103                       80                       80   \njxw53347                       80                       80   \n\n          Homework 3 - Max Points  Homework 4 - Max Points  \\\nwxb12345                       80                      100   \nmxl12345                       80                      100   \ntxj12345                       80                      100   \njgf12345                       80                      100   \nsmj00936                       80                      100   \n...                           ...                      ...   \npmj37756                       80                      100   \ndsl24347                       80                      100   \nnxe44872                       80                      100   \nbxr62103                       80                      100   \njxw53347                       80                      100   \n\n          Homework 5 - Max Points  Homework 6 - Max Points  \\\nwxb12345                       70                       90   \nmxl12345                       70                       90   \ntxj12345                       70                       90   \njgf12345                       70                       90   \nsmj00936                       70                       90   \n...                           ...                      ...   \npmj37756                       70                       90   \ndsl24347                       70                       90   \nnxe44872                       70                       90   \nbxr62103                       70                       90   \njxw53347                       70                       90   \n\n          Homework 7 - Max Points  Homework 8 - Max Points  \\\nwxb12345                       50                       70   \nmxl12345                       50                       70   \ntxj12345                       50                       70   \njgf12345                       50                       70   \nsmj00936                       50                       70   \n...                           ...                      ...   \npmj37756                       50                       70   \ndsl24347                       50                       70   \nnxe44872                       50                       70   \nbxr62103                       50                       70   \njxw53347                       50                       70   \n\n          Homework 9 - Max Points  Homework 10 - Max Points  \nwxb12345                       60                        60  \nmxl12345                       60                        60  \ntxj12345                       60                        60  \njgf12345                       60                        60  \nsmj00936                       60                        60  \n...                           ...                       ...  \npmj37756                       60                        60  \ndsl24347                       60                        60  \nnxe44872                       60                        60  \nbxr62103                       60                        60  \njxw53347                       60                        60  \n\n[150 rows x 10 columns]",
      "text/html": "<div>\n<style scoped>\n    .dataframe tbody tr th:only-of-type {\n        vertical-align: middle;\n    }\n\n    .dataframe tbody tr th {\n        vertical-align: top;\n    }\n\n    .dataframe thead th {\n        text-align: right;\n    }\n</style>\n<table border=\"1\" class=\"dataframe\">\n  <thead>\n    <tr style=\"text-align: right;\">\n      <th></th>\n      <th>Homework 1 - Max Points</th>\n      <th>Homework 2 - Max Points</th>\n      <th>Homework 3 - Max Points</th>\n      <th>Homework 4 - Max Points</th>\n      <th>Homework 5 - Max Points</th>\n      <th>Homework 6 - Max Points</th>\n      <th>Homework 7 - Max Points</th>\n      <th>Homework 8 - Max Points</th>\n      <th>Homework 9 - Max Points</th>\n      <th>Homework 10 - Max Points</th>\n    </tr>\n  </thead>\n  <tbody>\n    <tr>\n      <th>wxb12345</th>\n      <td>80</td>\n      <td>80</td>\n      <td>80</td>\n      <td>100</td>\n      <td>70</td>\n      <td>90</td>\n      <td>50</td>\n      <td>70</td>\n      <td>60</td>\n      <td>60</td>\n    </tr>\n    <tr>\n      <th>mxl12345</th>\n      <td>80</td>\n      <td>80</td>\n      <td>80</td>\n      <td>100</td>\n      <td>70</td>\n      <td>90</td>\n      <td>50</td>\n      <td>70</td>\n      <td>60</td>\n      <td>60</td>\n    </tr>\n    <tr>\n      <th>txj12345</th>\n      <td>80</td>\n      <td>80</td>\n      <td>80</td>\n      <td>100</td>\n      <td>70</td>\n      <td>90</td>\n      <td>50</td>\n      <td>70</td>\n      <td>60</td>\n      <td>60</td>\n    </tr>\n    <tr>\n      <th>jgf12345</th>\n      <td>80</td>\n      <td>80</td>\n      <td>80</td>\n      <td>100</td>\n      <td>70</td>\n      <td>90</td>\n      <td>50</td>\n      <td>70</td>\n      <td>60</td>\n      <td>60</td>\n    </tr>\n    <tr>\n      <th>smj00936</th>\n      <td>80</td>\n      <td>80</td>\n      <td>80</td>\n      <td>100</td>\n      <td>70</td>\n      <td>90</td>\n      <td>50</td>\n      <td>70</td>\n      <td>60</td>\n      <td>60</td>\n    </tr>\n    <tr>\n      <th>...</th>\n      <td>...</td>\n      <td>...</td>\n      <td>...</td>\n      <td>...</td>\n      <td>...</td>\n      <td>...</td>\n      <td>...</td>\n      <td>...</td>\n      <td>...</td>\n      <td>...</td>\n    </tr>\n    <tr>\n      <th>pmj37756</th>\n      <td>80</td>\n      <td>80</td>\n      <td>80</td>\n      <td>100</td>\n      <td>70</td>\n      <td>90</td>\n      <td>50</td>\n      <td>70</td>\n      <td>60</td>\n      <td>60</td>\n    </tr>\n    <tr>\n      <th>dsl24347</th>\n      <td>80</td>\n      <td>80</td>\n      <td>80</td>\n      <td>100</td>\n      <td>70</td>\n      <td>90</td>\n      <td>50</td>\n      <td>70</td>\n      <td>60</td>\n      <td>60</td>\n    </tr>\n    <tr>\n      <th>nxe44872</th>\n      <td>80</td>\n      <td>80</td>\n      <td>80</td>\n      <td>100</td>\n      <td>70</td>\n      <td>90</td>\n      <td>50</td>\n      <td>70</td>\n      <td>60</td>\n      <td>60</td>\n    </tr>\n    <tr>\n      <th>bxr62103</th>\n      <td>80</td>\n      <td>80</td>\n      <td>80</td>\n      <td>100</td>\n      <td>70</td>\n      <td>90</td>\n      <td>50</td>\n      <td>70</td>\n      <td>60</td>\n      <td>60</td>\n    </tr>\n    <tr>\n      <th>jxw53347</th>\n      <td>80</td>\n      <td>80</td>\n      <td>80</td>\n      <td>100</td>\n      <td>70</td>\n      <td>90</td>\n      <td>50</td>\n      <td>70</td>\n      <td>60</td>\n      <td>60</td>\n    </tr>\n  </tbody>\n</table>\n<p>150 rows × 10 columns</p>\n</div>"
     },
     "execution_count": 41,
     "metadata": {},
     "output_type": "execute_result"
    }
   ],
   "source": [
    "final_df[[x for x in final_df.columns if 'Home' in x and 'Max' in x]]"
   ],
   "metadata": {
    "collapsed": false,
    "ExecuteTime": {
     "end_time": "2024-08-24T04:08:35.036926Z",
     "start_time": "2024-08-24T04:08:35.030664Z"
    }
   },
   "id": "f228d24a2ed8ce9e",
   "execution_count": 41
  },
  {
   "cell_type": "markdown",
   "source": [
    "Total Score and Homework Score Calculation"
   ],
   "metadata": {
    "collapsed": false
   },
   "id": "762bbf0e017e3490"
  },
  {
   "cell_type": "code",
   "outputs": [],
   "source": [
    "hw_max_cols = [x for x in final_df.columns if 'Home' in x and 'Max' in x]\n",
    "hw_cols = [x for x in final_df.columns if 'Home' in x and 'Max' not in x]"
   ],
   "metadata": {
    "collapsed": false,
    "ExecuteTime": {
     "end_time": "2024-08-24T04:16:44.414998Z",
     "start_time": "2024-08-24T04:16:44.409742Z"
    }
   },
   "id": "637d46d99fad42c3",
   "execution_count": 42
  },
  {
   "cell_type": "code",
   "outputs": [],
   "source": [
    "hw_score_by_total = final_df[hw_cols].sum(axis=1) / final_df[hw_max_cols].sum(axis=1)"
   ],
   "metadata": {
    "collapsed": false,
    "ExecuteTime": {
     "end_time": "2024-08-24T04:20:24.097008Z",
     "start_time": "2024-08-24T04:20:24.086644Z"
    }
   },
   "id": "260b870cbb055c02",
   "execution_count": 48
  },
  {
   "cell_type": "code",
   "outputs": [],
   "source": [
    "final_df['HW by Total'] = hw_score_by_total"
   ],
   "metadata": {
    "collapsed": false,
    "ExecuteTime": {
     "end_time": "2024-08-24T04:20:50.316497Z",
     "start_time": "2024-08-24T04:20:50.309779Z"
    }
   },
   "id": "cd85843ff87b8144",
   "execution_count": 49
  },
  {
   "cell_type": "code",
   "outputs": [
    {
     "data": {
      "text/plain": "                      Email Address  Section First Name Last Name  Homework 1  \\\nwxb12345  woody.barrera_jr@univ.edu        1      Woody   Barrera        55.0   \nmxl12345   malaika.lambert@univ.edu        2    Malaika   Lambert        63.0   \ntxj12345       traci.joyce@univ.edu        1      Traci     Joyce         0.0   \njgf12345   john.g.2.flower@univ.edu        3      Gregg    Flower        69.0   \nsmj00936     stacy.johnson@univ.edu        2      Stacy   Johnson        74.0   \n\n          Homework 1 - Max Points  Homework 2  Homework 2 - Max Points  \\\nwxb12345                       80          62                       80   \nmxl12345                       80          57                       80   \ntxj12345                       80          77                       80   \njgf12345                       80          52                       80   \nsmj00936                       80          55                       80   \n\n          Homework 3  Homework 3 - Max Points  ...  Exam 3 - Max Points  \\\nwxb12345          73                       80  ...                  100   \nmxl12345          78                       80  ...                  100   \ntxj12345          58                       80  ...                  100   \njgf12345          64                       80  ...                  100   \nsmj00936          60                       80  ...                  100   \n\n          Quiz 5  Quiz 2  Quiz 4  Quiz 1  Quiz 3  Exam 1 Score  Exam 2 Score  \\\nwxb12345      10      10       7       4      11          0.86          0.62   \nmxl12345       6      10      13       8      10          0.60          0.91   \ntxj12345       4       6       9       8      14          1.00          0.84   \njgf12345       5       8      13       8       8          0.72          0.83   \nsmj00936       7      14       7       6      11          0.96          0.80   \n\n          Exam 3 Score  HW by Total  \nwxb12345          0.90     0.808108  \nmxl12345          0.93     0.827027  \ntxj12345          0.64     0.785135  \njgf12345          0.77     0.770270  \nsmj00936          0.86     0.782432  \n\n[5 rows x 39 columns]",
      "text/html": "<div>\n<style scoped>\n    .dataframe tbody tr th:only-of-type {\n        vertical-align: middle;\n    }\n\n    .dataframe tbody tr th {\n        vertical-align: top;\n    }\n\n    .dataframe thead th {\n        text-align: right;\n    }\n</style>\n<table border=\"1\" class=\"dataframe\">\n  <thead>\n    <tr style=\"text-align: right;\">\n      <th></th>\n      <th>Email Address</th>\n      <th>Section</th>\n      <th>First Name</th>\n      <th>Last Name</th>\n      <th>Homework 1</th>\n      <th>Homework 1 - Max Points</th>\n      <th>Homework 2</th>\n      <th>Homework 2 - Max Points</th>\n      <th>Homework 3</th>\n      <th>Homework 3 - Max Points</th>\n      <th>...</th>\n      <th>Exam 3 - Max Points</th>\n      <th>Quiz 5</th>\n      <th>Quiz 2</th>\n      <th>Quiz 4</th>\n      <th>Quiz 1</th>\n      <th>Quiz 3</th>\n      <th>Exam 1 Score</th>\n      <th>Exam 2 Score</th>\n      <th>Exam 3 Score</th>\n      <th>HW by Total</th>\n    </tr>\n  </thead>\n  <tbody>\n    <tr>\n      <th>wxb12345</th>\n      <td>woody.barrera_jr@univ.edu</td>\n      <td>1</td>\n      <td>Woody</td>\n      <td>Barrera</td>\n      <td>55.0</td>\n      <td>80</td>\n      <td>62</td>\n      <td>80</td>\n      <td>73</td>\n      <td>80</td>\n      <td>...</td>\n      <td>100</td>\n      <td>10</td>\n      <td>10</td>\n      <td>7</td>\n      <td>4</td>\n      <td>11</td>\n      <td>0.86</td>\n      <td>0.62</td>\n      <td>0.90</td>\n      <td>0.808108</td>\n    </tr>\n    <tr>\n      <th>mxl12345</th>\n      <td>malaika.lambert@univ.edu</td>\n      <td>2</td>\n      <td>Malaika</td>\n      <td>Lambert</td>\n      <td>63.0</td>\n      <td>80</td>\n      <td>57</td>\n      <td>80</td>\n      <td>78</td>\n      <td>80</td>\n      <td>...</td>\n      <td>100</td>\n      <td>6</td>\n      <td>10</td>\n      <td>13</td>\n      <td>8</td>\n      <td>10</td>\n      <td>0.60</td>\n      <td>0.91</td>\n      <td>0.93</td>\n      <td>0.827027</td>\n    </tr>\n    <tr>\n      <th>txj12345</th>\n      <td>traci.joyce@univ.edu</td>\n      <td>1</td>\n      <td>Traci</td>\n      <td>Joyce</td>\n      <td>0.0</td>\n      <td>80</td>\n      <td>77</td>\n      <td>80</td>\n      <td>58</td>\n      <td>80</td>\n      <td>...</td>\n      <td>100</td>\n      <td>4</td>\n      <td>6</td>\n      <td>9</td>\n      <td>8</td>\n      <td>14</td>\n      <td>1.00</td>\n      <td>0.84</td>\n      <td>0.64</td>\n      <td>0.785135</td>\n    </tr>\n    <tr>\n      <th>jgf12345</th>\n      <td>john.g.2.flower@univ.edu</td>\n      <td>3</td>\n      <td>Gregg</td>\n      <td>Flower</td>\n      <td>69.0</td>\n      <td>80</td>\n      <td>52</td>\n      <td>80</td>\n      <td>64</td>\n      <td>80</td>\n      <td>...</td>\n      <td>100</td>\n      <td>5</td>\n      <td>8</td>\n      <td>13</td>\n      <td>8</td>\n      <td>8</td>\n      <td>0.72</td>\n      <td>0.83</td>\n      <td>0.77</td>\n      <td>0.770270</td>\n    </tr>\n    <tr>\n      <th>smj00936</th>\n      <td>stacy.johnson@univ.edu</td>\n      <td>2</td>\n      <td>Stacy</td>\n      <td>Johnson</td>\n      <td>74.0</td>\n      <td>80</td>\n      <td>55</td>\n      <td>80</td>\n      <td>60</td>\n      <td>80</td>\n      <td>...</td>\n      <td>100</td>\n      <td>7</td>\n      <td>14</td>\n      <td>7</td>\n      <td>6</td>\n      <td>11</td>\n      <td>0.96</td>\n      <td>0.80</td>\n      <td>0.86</td>\n      <td>0.782432</td>\n    </tr>\n  </tbody>\n</table>\n<p>5 rows × 39 columns</p>\n</div>"
     },
     "execution_count": 51,
     "metadata": {},
     "output_type": "execute_result"
    }
   ],
   "source": [
    "final_df.head(5)"
   ],
   "metadata": {
    "collapsed": false,
    "ExecuteTime": {
     "end_time": "2024-08-24T04:21:18.583149Z",
     "start_time": "2024-08-24T04:21:18.567087Z"
    }
   },
   "id": "de6ee2f791a08362",
   "execution_count": 51
  },
  {
   "cell_type": "code",
   "outputs": [],
   "source": [
    "hw_max_data = final_df[hw_max_cols].set_axis(hw_cols ,axis=1)"
   ],
   "metadata": {
    "collapsed": false,
    "ExecuteTime": {
     "end_time": "2024-08-24T04:28:54.802831Z",
     "start_time": "2024-08-24T04:28:54.795387Z"
    }
   },
   "id": "74b65977a475db6d",
   "execution_count": 64
  },
  {
   "cell_type": "code",
   "outputs": [
    {
     "data": {
      "text/plain": "          Homework 1  Homework 2  Homework 3  Homework 4  Homework 5  \\\nwxb12345          80          80          80         100          70   \nmxl12345          80          80          80         100          70   \ntxj12345          80          80          80         100          70   \njgf12345          80          80          80         100          70   \nsmj00936          80          80          80         100          70   \n...              ...         ...         ...         ...         ...   \npmj37756          80          80          80         100          70   \ndsl24347          80          80          80         100          70   \nnxe44872          80          80          80         100          70   \nbxr62103          80          80          80         100          70   \njxw53347          80          80          80         100          70   \n\n          Homework 6  Homework 7  Homework 8  Homework 9  Homework 10  \nwxb12345          90          50          70          60           60  \nmxl12345          90          50          70          60           60  \ntxj12345          90          50          70          60           60  \njgf12345          90          50          70          60           60  \nsmj00936          90          50          70          60           60  \n...              ...         ...         ...         ...          ...  \npmj37756          90          50          70          60           60  \ndsl24347          90          50          70          60           60  \nnxe44872          90          50          70          60           60  \nbxr62103          90          50          70          60           60  \njxw53347          90          50          70          60           60  \n\n[150 rows x 10 columns]",
      "text/html": "<div>\n<style scoped>\n    .dataframe tbody tr th:only-of-type {\n        vertical-align: middle;\n    }\n\n    .dataframe tbody tr th {\n        vertical-align: top;\n    }\n\n    .dataframe thead th {\n        text-align: right;\n    }\n</style>\n<table border=\"1\" class=\"dataframe\">\n  <thead>\n    <tr style=\"text-align: right;\">\n      <th></th>\n      <th>Homework 1</th>\n      <th>Homework 2</th>\n      <th>Homework 3</th>\n      <th>Homework 4</th>\n      <th>Homework 5</th>\n      <th>Homework 6</th>\n      <th>Homework 7</th>\n      <th>Homework 8</th>\n      <th>Homework 9</th>\n      <th>Homework 10</th>\n    </tr>\n  </thead>\n  <tbody>\n    <tr>\n      <th>wxb12345</th>\n      <td>80</td>\n      <td>80</td>\n      <td>80</td>\n      <td>100</td>\n      <td>70</td>\n      <td>90</td>\n      <td>50</td>\n      <td>70</td>\n      <td>60</td>\n      <td>60</td>\n    </tr>\n    <tr>\n      <th>mxl12345</th>\n      <td>80</td>\n      <td>80</td>\n      <td>80</td>\n      <td>100</td>\n      <td>70</td>\n      <td>90</td>\n      <td>50</td>\n      <td>70</td>\n      <td>60</td>\n      <td>60</td>\n    </tr>\n    <tr>\n      <th>txj12345</th>\n      <td>80</td>\n      <td>80</td>\n      <td>80</td>\n      <td>100</td>\n      <td>70</td>\n      <td>90</td>\n      <td>50</td>\n      <td>70</td>\n      <td>60</td>\n      <td>60</td>\n    </tr>\n    <tr>\n      <th>jgf12345</th>\n      <td>80</td>\n      <td>80</td>\n      <td>80</td>\n      <td>100</td>\n      <td>70</td>\n      <td>90</td>\n      <td>50</td>\n      <td>70</td>\n      <td>60</td>\n      <td>60</td>\n    </tr>\n    <tr>\n      <th>smj00936</th>\n      <td>80</td>\n      <td>80</td>\n      <td>80</td>\n      <td>100</td>\n      <td>70</td>\n      <td>90</td>\n      <td>50</td>\n      <td>70</td>\n      <td>60</td>\n      <td>60</td>\n    </tr>\n    <tr>\n      <th>...</th>\n      <td>...</td>\n      <td>...</td>\n      <td>...</td>\n      <td>...</td>\n      <td>...</td>\n      <td>...</td>\n      <td>...</td>\n      <td>...</td>\n      <td>...</td>\n      <td>...</td>\n    </tr>\n    <tr>\n      <th>pmj37756</th>\n      <td>80</td>\n      <td>80</td>\n      <td>80</td>\n      <td>100</td>\n      <td>70</td>\n      <td>90</td>\n      <td>50</td>\n      <td>70</td>\n      <td>60</td>\n      <td>60</td>\n    </tr>\n    <tr>\n      <th>dsl24347</th>\n      <td>80</td>\n      <td>80</td>\n      <td>80</td>\n      <td>100</td>\n      <td>70</td>\n      <td>90</td>\n      <td>50</td>\n      <td>70</td>\n      <td>60</td>\n      <td>60</td>\n    </tr>\n    <tr>\n      <th>nxe44872</th>\n      <td>80</td>\n      <td>80</td>\n      <td>80</td>\n      <td>100</td>\n      <td>70</td>\n      <td>90</td>\n      <td>50</td>\n      <td>70</td>\n      <td>60</td>\n      <td>60</td>\n    </tr>\n    <tr>\n      <th>bxr62103</th>\n      <td>80</td>\n      <td>80</td>\n      <td>80</td>\n      <td>100</td>\n      <td>70</td>\n      <td>90</td>\n      <td>50</td>\n      <td>70</td>\n      <td>60</td>\n      <td>60</td>\n    </tr>\n    <tr>\n      <th>jxw53347</th>\n      <td>80</td>\n      <td>80</td>\n      <td>80</td>\n      <td>100</td>\n      <td>70</td>\n      <td>90</td>\n      <td>50</td>\n      <td>70</td>\n      <td>60</td>\n      <td>60</td>\n    </tr>\n  </tbody>\n</table>\n<p>150 rows × 10 columns</p>\n</div>"
     },
     "execution_count": 65,
     "metadata": {},
     "output_type": "execute_result"
    }
   ],
   "source": [
    "hw_max_data"
   ],
   "metadata": {
    "collapsed": false,
    "ExecuteTime": {
     "end_time": "2024-08-24T04:28:55.289686Z",
     "start_time": "2024-08-24T04:28:55.283114Z"
    }
   },
   "id": "5885820f1797adf9",
   "execution_count": 65
  },
  {
   "cell_type": "code",
   "outputs": [],
   "source": [
    "hw_score_by_avg = (final_df[hw_cols] / hw_max_data).sum(axis=1) / len(hw_cols)"
   ],
   "metadata": {
    "collapsed": false,
    "ExecuteTime": {
     "end_time": "2024-08-24T04:29:02.446357Z",
     "start_time": "2024-08-24T04:29:02.441880Z"
    }
   },
   "id": "7e431754531798b",
   "execution_count": 66
  },
  {
   "cell_type": "code",
   "outputs": [],
   "source": [
    "final_df['HW by Average'] = hw_score_by_avg"
   ],
   "metadata": {
    "collapsed": false,
    "ExecuteTime": {
     "end_time": "2024-08-24T04:29:02.907558Z",
     "start_time": "2024-08-24T04:29:02.904333Z"
    }
   },
   "id": "7dae123944133359",
   "execution_count": 67
  },
  {
   "cell_type": "code",
   "outputs": [
    {
     "data": {
      "text/plain": "                      Email Address  Section First Name Last Name  Homework 1  \\\nwxb12345  woody.barrera_jr@univ.edu        1      Woody   Barrera        55.0   \nmxl12345   malaika.lambert@univ.edu        2    Malaika   Lambert        63.0   \ntxj12345       traci.joyce@univ.edu        1      Traci     Joyce         0.0   \njgf12345   john.g.2.flower@univ.edu        3      Gregg    Flower        69.0   \nsmj00936     stacy.johnson@univ.edu        2      Stacy   Johnson        74.0   \n\n          Homework 1 - Max Points  Homework 2  Homework 2 - Max Points  \\\nwxb12345                       80          62                       80   \nmxl12345                       80          57                       80   \ntxj12345                       80          77                       80   \njgf12345                       80          52                       80   \nsmj00936                       80          55                       80   \n\n          Homework 3  Homework 3 - Max Points  ...  Quiz 5  Quiz 2  Quiz 4  \\\nwxb12345          73                       80  ...      10      10       7   \nmxl12345          78                       80  ...       6      10      13   \ntxj12345          58                       80  ...       4       6       9   \njgf12345          64                       80  ...       5       8      13   \nsmj00936          60                       80  ...       7      14       7   \n\n          Quiz 1  Quiz 3  Exam 1 Score  Exam 2 Score  Exam 3 Score  \\\nwxb12345       4      11          0.86          0.62          0.90   \nmxl12345       8      10          0.60          0.91          0.93   \ntxj12345       8      14          1.00          0.84          0.64   \njgf12345       8       8          0.72          0.83          0.77   \nsmj00936       6      11          0.96          0.80          0.86   \n\n          HW by Total  HW by Average  \nwxb12345     0.808108       0.799405  \nmxl12345     0.827027       0.818944  \ntxj12345     0.785135       0.785940  \njgf12345     0.770270       0.765710  \nsmj00936     0.782432       0.787742  \n\n[5 rows x 40 columns]",
      "text/html": "<div>\n<style scoped>\n    .dataframe tbody tr th:only-of-type {\n        vertical-align: middle;\n    }\n\n    .dataframe tbody tr th {\n        vertical-align: top;\n    }\n\n    .dataframe thead th {\n        text-align: right;\n    }\n</style>\n<table border=\"1\" class=\"dataframe\">\n  <thead>\n    <tr style=\"text-align: right;\">\n      <th></th>\n      <th>Email Address</th>\n      <th>Section</th>\n      <th>First Name</th>\n      <th>Last Name</th>\n      <th>Homework 1</th>\n      <th>Homework 1 - Max Points</th>\n      <th>Homework 2</th>\n      <th>Homework 2 - Max Points</th>\n      <th>Homework 3</th>\n      <th>Homework 3 - Max Points</th>\n      <th>...</th>\n      <th>Quiz 5</th>\n      <th>Quiz 2</th>\n      <th>Quiz 4</th>\n      <th>Quiz 1</th>\n      <th>Quiz 3</th>\n      <th>Exam 1 Score</th>\n      <th>Exam 2 Score</th>\n      <th>Exam 3 Score</th>\n      <th>HW by Total</th>\n      <th>HW by Average</th>\n    </tr>\n  </thead>\n  <tbody>\n    <tr>\n      <th>wxb12345</th>\n      <td>woody.barrera_jr@univ.edu</td>\n      <td>1</td>\n      <td>Woody</td>\n      <td>Barrera</td>\n      <td>55.0</td>\n      <td>80</td>\n      <td>62</td>\n      <td>80</td>\n      <td>73</td>\n      <td>80</td>\n      <td>...</td>\n      <td>10</td>\n      <td>10</td>\n      <td>7</td>\n      <td>4</td>\n      <td>11</td>\n      <td>0.86</td>\n      <td>0.62</td>\n      <td>0.90</td>\n      <td>0.808108</td>\n      <td>0.799405</td>\n    </tr>\n    <tr>\n      <th>mxl12345</th>\n      <td>malaika.lambert@univ.edu</td>\n      <td>2</td>\n      <td>Malaika</td>\n      <td>Lambert</td>\n      <td>63.0</td>\n      <td>80</td>\n      <td>57</td>\n      <td>80</td>\n      <td>78</td>\n      <td>80</td>\n      <td>...</td>\n      <td>6</td>\n      <td>10</td>\n      <td>13</td>\n      <td>8</td>\n      <td>10</td>\n      <td>0.60</td>\n      <td>0.91</td>\n      <td>0.93</td>\n      <td>0.827027</td>\n      <td>0.818944</td>\n    </tr>\n    <tr>\n      <th>txj12345</th>\n      <td>traci.joyce@univ.edu</td>\n      <td>1</td>\n      <td>Traci</td>\n      <td>Joyce</td>\n      <td>0.0</td>\n      <td>80</td>\n      <td>77</td>\n      <td>80</td>\n      <td>58</td>\n      <td>80</td>\n      <td>...</td>\n      <td>4</td>\n      <td>6</td>\n      <td>9</td>\n      <td>8</td>\n      <td>14</td>\n      <td>1.00</td>\n      <td>0.84</td>\n      <td>0.64</td>\n      <td>0.785135</td>\n      <td>0.785940</td>\n    </tr>\n    <tr>\n      <th>jgf12345</th>\n      <td>john.g.2.flower@univ.edu</td>\n      <td>3</td>\n      <td>Gregg</td>\n      <td>Flower</td>\n      <td>69.0</td>\n      <td>80</td>\n      <td>52</td>\n      <td>80</td>\n      <td>64</td>\n      <td>80</td>\n      <td>...</td>\n      <td>5</td>\n      <td>8</td>\n      <td>13</td>\n      <td>8</td>\n      <td>8</td>\n      <td>0.72</td>\n      <td>0.83</td>\n      <td>0.77</td>\n      <td>0.770270</td>\n      <td>0.765710</td>\n    </tr>\n    <tr>\n      <th>smj00936</th>\n      <td>stacy.johnson@univ.edu</td>\n      <td>2</td>\n      <td>Stacy</td>\n      <td>Johnson</td>\n      <td>74.0</td>\n      <td>80</td>\n      <td>55</td>\n      <td>80</td>\n      <td>60</td>\n      <td>80</td>\n      <td>...</td>\n      <td>7</td>\n      <td>14</td>\n      <td>7</td>\n      <td>6</td>\n      <td>11</td>\n      <td>0.96</td>\n      <td>0.80</td>\n      <td>0.86</td>\n      <td>0.782432</td>\n      <td>0.787742</td>\n    </tr>\n  </tbody>\n</table>\n<p>5 rows × 40 columns</p>\n</div>"
     },
     "execution_count": 68,
     "metadata": {},
     "output_type": "execute_result"
    }
   ],
   "source": [
    "final_df.head()"
   ],
   "metadata": {
    "collapsed": false,
    "ExecuteTime": {
     "end_time": "2024-08-24T04:29:03.437857Z",
     "start_time": "2024-08-24T04:29:03.430206Z"
    }
   },
   "id": "cabd237744df2a5e",
   "execution_count": 68
  },
  {
   "cell_type": "code",
   "outputs": [],
   "source": [
    "final_df['Homework Score'] = final_df[['HW by Total', 'HW by Average']].max(axis=1)"
   ],
   "metadata": {
    "collapsed": false,
    "ExecuteTime": {
     "end_time": "2024-08-24T04:31:02.525870Z",
     "start_time": "2024-08-24T04:31:02.516637Z"
    }
   },
   "id": "925aa92411ef094e",
   "execution_count": 70
  },
  {
   "cell_type": "code",
   "outputs": [
    {
     "data": {
      "text/plain": "                      Email Address  Section First Name Last Name  Homework 1  \\\nwxb12345  woody.barrera_jr@univ.edu        1      Woody   Barrera        55.0   \nmxl12345   malaika.lambert@univ.edu        2    Malaika   Lambert        63.0   \ntxj12345       traci.joyce@univ.edu        1      Traci     Joyce         0.0   \njgf12345   john.g.2.flower@univ.edu        3      Gregg    Flower        69.0   \nsmj00936     stacy.johnson@univ.edu        2      Stacy   Johnson        74.0   \n\n          Homework 1 - Max Points  Homework 2  Homework 2 - Max Points  \\\nwxb12345                       80          62                       80   \nmxl12345                       80          57                       80   \ntxj12345                       80          77                       80   \njgf12345                       80          52                       80   \nsmj00936                       80          55                       80   \n\n          Homework 3  Homework 3 - Max Points  ...  Quiz 2  Quiz 4  Quiz 1  \\\nwxb12345          73                       80  ...      10       7       4   \nmxl12345          78                       80  ...      10      13       8   \ntxj12345          58                       80  ...       6       9       8   \njgf12345          64                       80  ...       8      13       8   \nsmj00936          60                       80  ...      14       7       6   \n\n          Quiz 3  Exam 1 Score  Exam 2 Score  Exam 3 Score  HW by Total  \\\nwxb12345      11          0.86          0.62          0.90     0.808108   \nmxl12345      10          0.60          0.91          0.93     0.827027   \ntxj12345      14          1.00          0.84          0.64     0.785135   \njgf12345       8          0.72          0.83          0.77     0.770270   \nsmj00936      11          0.96          0.80          0.86     0.782432   \n\n          HW by Average  Homework Score  \nwxb12345       0.799405        0.808108  \nmxl12345       0.818944        0.827027  \ntxj12345       0.785940        0.785940  \njgf12345       0.765710        0.770270  \nsmj00936       0.787742        0.787742  \n\n[5 rows x 41 columns]",
      "text/html": "<div>\n<style scoped>\n    .dataframe tbody tr th:only-of-type {\n        vertical-align: middle;\n    }\n\n    .dataframe tbody tr th {\n        vertical-align: top;\n    }\n\n    .dataframe thead th {\n        text-align: right;\n    }\n</style>\n<table border=\"1\" class=\"dataframe\">\n  <thead>\n    <tr style=\"text-align: right;\">\n      <th></th>\n      <th>Email Address</th>\n      <th>Section</th>\n      <th>First Name</th>\n      <th>Last Name</th>\n      <th>Homework 1</th>\n      <th>Homework 1 - Max Points</th>\n      <th>Homework 2</th>\n      <th>Homework 2 - Max Points</th>\n      <th>Homework 3</th>\n      <th>Homework 3 - Max Points</th>\n      <th>...</th>\n      <th>Quiz 2</th>\n      <th>Quiz 4</th>\n      <th>Quiz 1</th>\n      <th>Quiz 3</th>\n      <th>Exam 1 Score</th>\n      <th>Exam 2 Score</th>\n      <th>Exam 3 Score</th>\n      <th>HW by Total</th>\n      <th>HW by Average</th>\n      <th>Homework Score</th>\n    </tr>\n  </thead>\n  <tbody>\n    <tr>\n      <th>wxb12345</th>\n      <td>woody.barrera_jr@univ.edu</td>\n      <td>1</td>\n      <td>Woody</td>\n      <td>Barrera</td>\n      <td>55.0</td>\n      <td>80</td>\n      <td>62</td>\n      <td>80</td>\n      <td>73</td>\n      <td>80</td>\n      <td>...</td>\n      <td>10</td>\n      <td>7</td>\n      <td>4</td>\n      <td>11</td>\n      <td>0.86</td>\n      <td>0.62</td>\n      <td>0.90</td>\n      <td>0.808108</td>\n      <td>0.799405</td>\n      <td>0.808108</td>\n    </tr>\n    <tr>\n      <th>mxl12345</th>\n      <td>malaika.lambert@univ.edu</td>\n      <td>2</td>\n      <td>Malaika</td>\n      <td>Lambert</td>\n      <td>63.0</td>\n      <td>80</td>\n      <td>57</td>\n      <td>80</td>\n      <td>78</td>\n      <td>80</td>\n      <td>...</td>\n      <td>10</td>\n      <td>13</td>\n      <td>8</td>\n      <td>10</td>\n      <td>0.60</td>\n      <td>0.91</td>\n      <td>0.93</td>\n      <td>0.827027</td>\n      <td>0.818944</td>\n      <td>0.827027</td>\n    </tr>\n    <tr>\n      <th>txj12345</th>\n      <td>traci.joyce@univ.edu</td>\n      <td>1</td>\n      <td>Traci</td>\n      <td>Joyce</td>\n      <td>0.0</td>\n      <td>80</td>\n      <td>77</td>\n      <td>80</td>\n      <td>58</td>\n      <td>80</td>\n      <td>...</td>\n      <td>6</td>\n      <td>9</td>\n      <td>8</td>\n      <td>14</td>\n      <td>1.00</td>\n      <td>0.84</td>\n      <td>0.64</td>\n      <td>0.785135</td>\n      <td>0.785940</td>\n      <td>0.785940</td>\n    </tr>\n    <tr>\n      <th>jgf12345</th>\n      <td>john.g.2.flower@univ.edu</td>\n      <td>3</td>\n      <td>Gregg</td>\n      <td>Flower</td>\n      <td>69.0</td>\n      <td>80</td>\n      <td>52</td>\n      <td>80</td>\n      <td>64</td>\n      <td>80</td>\n      <td>...</td>\n      <td>8</td>\n      <td>13</td>\n      <td>8</td>\n      <td>8</td>\n      <td>0.72</td>\n      <td>0.83</td>\n      <td>0.77</td>\n      <td>0.770270</td>\n      <td>0.765710</td>\n      <td>0.770270</td>\n    </tr>\n    <tr>\n      <th>smj00936</th>\n      <td>stacy.johnson@univ.edu</td>\n      <td>2</td>\n      <td>Stacy</td>\n      <td>Johnson</td>\n      <td>74.0</td>\n      <td>80</td>\n      <td>55</td>\n      <td>80</td>\n      <td>60</td>\n      <td>80</td>\n      <td>...</td>\n      <td>14</td>\n      <td>7</td>\n      <td>6</td>\n      <td>11</td>\n      <td>0.96</td>\n      <td>0.80</td>\n      <td>0.86</td>\n      <td>0.782432</td>\n      <td>0.787742</td>\n      <td>0.787742</td>\n    </tr>\n  </tbody>\n</table>\n<p>5 rows × 41 columns</p>\n</div>"
     },
     "execution_count": 71,
     "metadata": {},
     "output_type": "execute_result"
    }
   ],
   "source": [
    "final_df.head()"
   ],
   "metadata": {
    "collapsed": false,
    "ExecuteTime": {
     "end_time": "2024-08-24T04:31:05.331140Z",
     "start_time": "2024-08-24T04:31:05.322948Z"
    }
   },
   "id": "8ecd760d51deb1fc",
   "execution_count": 71
  },
  {
   "cell_type": "markdown",
   "source": [
    "#### Quiz Score"
   ],
   "metadata": {
    "collapsed": false
   },
   "id": "f6be36aceb93b48c"
  },
  {
   "cell_type": "code",
   "outputs": [],
   "source": [
    "quiz_scores = final_df.filter(regex=r\"^Quiz \\d$\", axis=1)"
   ],
   "metadata": {
    "collapsed": false,
    "ExecuteTime": {
     "end_time": "2024-08-24T04:46:56.307413Z",
     "start_time": "2024-08-24T04:46:56.302053Z"
    }
   },
   "id": "77ef56555e65cc39",
   "execution_count": 74
  },
  {
   "cell_type": "code",
   "outputs": [],
   "source": [
    "n_quiz = quiz_scores.shape[1]"
   ],
   "metadata": {
    "collapsed": false,
    "ExecuteTime": {
     "end_time": "2024-08-24T04:47:49.790589Z",
     "start_time": "2024-08-24T04:47:49.785631Z"
    }
   },
   "id": "900510423d0b4642",
   "execution_count": 75
  },
  {
   "cell_type": "code",
   "outputs": [],
   "source": [
    "quiz_max_points = pd.Series(\n",
    "    {'Quiz 1': 11, 'Quiz 2':15, 'Quiz 3': 17, 'Quiz 4': 14, 'Quiz 5': 12}\n",
    ")"
   ],
   "metadata": {
    "collapsed": false,
    "ExecuteTime": {
     "end_time": "2024-08-24T04:48:42.061439Z",
     "start_time": "2024-08-24T04:48:42.054603Z"
    }
   },
   "id": "e2b4c7ae6c6aa753",
   "execution_count": 76
  },
  {
   "cell_type": "code",
   "outputs": [],
   "source": [
    "quiz_score_by_total = quiz_scores.sum(axis=1) / quiz_max_points.sum()"
   ],
   "metadata": {
    "collapsed": false,
    "ExecuteTime": {
     "end_time": "2024-08-24T04:49:42.427411Z",
     "start_time": "2024-08-24T04:49:42.423529Z"
    }
   },
   "id": "1519c49a78fa3f8b",
   "execution_count": 78
  },
  {
   "cell_type": "code",
   "outputs": [],
   "source": [
    "quiz_score_by_avg = (quiz_scores / quiz_max_points).sum(axis=1) / n_quiz"
   ],
   "metadata": {
    "collapsed": false,
    "ExecuteTime": {
     "end_time": "2024-08-24T04:50:33.426594Z",
     "start_time": "2024-08-24T04:50:33.417520Z"
    }
   },
   "id": "c249640879fffa1f",
   "execution_count": 80
  },
  {
   "cell_type": "code",
   "outputs": [],
   "source": [
    "final_df['Quiz Score'] = pd.concat([quiz_score_by_total, quiz_score_by_avg], axis=1).max(axis=1)"
   ],
   "metadata": {
    "collapsed": false,
    "ExecuteTime": {
     "end_time": "2024-08-24T04:51:30.040112Z",
     "start_time": "2024-08-24T04:51:30.036404Z"
    }
   },
   "id": "af17baab33c004d6",
   "execution_count": 81
  },
  {
   "cell_type": "code",
   "outputs": [
    {
     "data": {
      "text/plain": "                      Email Address  Section First Name Last Name  Homework 1  \\\nwxb12345  woody.barrera_jr@univ.edu        1      Woody   Barrera        55.0   \nmxl12345   malaika.lambert@univ.edu        2    Malaika   Lambert        63.0   \ntxj12345       traci.joyce@univ.edu        1      Traci     Joyce         0.0   \njgf12345   john.g.2.flower@univ.edu        3      Gregg    Flower        69.0   \nsmj00936     stacy.johnson@univ.edu        2      Stacy   Johnson        74.0   \n\n          Homework 1 - Max Points  Homework 2  Homework 2 - Max Points  \\\nwxb12345                       80          62                       80   \nmxl12345                       80          57                       80   \ntxj12345                       80          77                       80   \njgf12345                       80          52                       80   \nsmj00936                       80          55                       80   \n\n          Homework 3  Homework 3 - Max Points  ...  Quiz 4  Quiz 1  Quiz 3  \\\nwxb12345          73                       80  ...       7       4      11   \nmxl12345          78                       80  ...      13       8      10   \ntxj12345          58                       80  ...       9       8      14   \njgf12345          64                       80  ...      13       8       8   \nsmj00936          60                       80  ...       7       6      11   \n\n          Exam 1 Score  Exam 2 Score  Exam 3 Score  HW by Total  \\\nwxb12345          0.86          0.62          0.90     0.808108   \nmxl12345          0.60          0.91          0.93     0.827027   \ntxj12345          1.00          0.84          0.64     0.785135   \njgf12345          0.72          0.83          0.77     0.770270   \nsmj00936          0.96          0.80          0.86     0.782432   \n\n          HW by Average  Homework Score  Quiz Score  \nwxb12345       0.799405        0.808108    0.608696  \nmxl12345       0.818944        0.827027    0.682149  \ntxj12345       0.785940        0.785940    0.594203  \njgf12345       0.765710        0.770270    0.615286  \nsmj00936       0.787742        0.787742    0.652174  \n\n[5 rows x 42 columns]",
      "text/html": "<div>\n<style scoped>\n    .dataframe tbody tr th:only-of-type {\n        vertical-align: middle;\n    }\n\n    .dataframe tbody tr th {\n        vertical-align: top;\n    }\n\n    .dataframe thead th {\n        text-align: right;\n    }\n</style>\n<table border=\"1\" class=\"dataframe\">\n  <thead>\n    <tr style=\"text-align: right;\">\n      <th></th>\n      <th>Email Address</th>\n      <th>Section</th>\n      <th>First Name</th>\n      <th>Last Name</th>\n      <th>Homework 1</th>\n      <th>Homework 1 - Max Points</th>\n      <th>Homework 2</th>\n      <th>Homework 2 - Max Points</th>\n      <th>Homework 3</th>\n      <th>Homework 3 - Max Points</th>\n      <th>...</th>\n      <th>Quiz 4</th>\n      <th>Quiz 1</th>\n      <th>Quiz 3</th>\n      <th>Exam 1 Score</th>\n      <th>Exam 2 Score</th>\n      <th>Exam 3 Score</th>\n      <th>HW by Total</th>\n      <th>HW by Average</th>\n      <th>Homework Score</th>\n      <th>Quiz Score</th>\n    </tr>\n  </thead>\n  <tbody>\n    <tr>\n      <th>wxb12345</th>\n      <td>woody.barrera_jr@univ.edu</td>\n      <td>1</td>\n      <td>Woody</td>\n      <td>Barrera</td>\n      <td>55.0</td>\n      <td>80</td>\n      <td>62</td>\n      <td>80</td>\n      <td>73</td>\n      <td>80</td>\n      <td>...</td>\n      <td>7</td>\n      <td>4</td>\n      <td>11</td>\n      <td>0.86</td>\n      <td>0.62</td>\n      <td>0.90</td>\n      <td>0.808108</td>\n      <td>0.799405</td>\n      <td>0.808108</td>\n      <td>0.608696</td>\n    </tr>\n    <tr>\n      <th>mxl12345</th>\n      <td>malaika.lambert@univ.edu</td>\n      <td>2</td>\n      <td>Malaika</td>\n      <td>Lambert</td>\n      <td>63.0</td>\n      <td>80</td>\n      <td>57</td>\n      <td>80</td>\n      <td>78</td>\n      <td>80</td>\n      <td>...</td>\n      <td>13</td>\n      <td>8</td>\n      <td>10</td>\n      <td>0.60</td>\n      <td>0.91</td>\n      <td>0.93</td>\n      <td>0.827027</td>\n      <td>0.818944</td>\n      <td>0.827027</td>\n      <td>0.682149</td>\n    </tr>\n    <tr>\n      <th>txj12345</th>\n      <td>traci.joyce@univ.edu</td>\n      <td>1</td>\n      <td>Traci</td>\n      <td>Joyce</td>\n      <td>0.0</td>\n      <td>80</td>\n      <td>77</td>\n      <td>80</td>\n      <td>58</td>\n      <td>80</td>\n      <td>...</td>\n      <td>9</td>\n      <td>8</td>\n      <td>14</td>\n      <td>1.00</td>\n      <td>0.84</td>\n      <td>0.64</td>\n      <td>0.785135</td>\n      <td>0.785940</td>\n      <td>0.785940</td>\n      <td>0.594203</td>\n    </tr>\n    <tr>\n      <th>jgf12345</th>\n      <td>john.g.2.flower@univ.edu</td>\n      <td>3</td>\n      <td>Gregg</td>\n      <td>Flower</td>\n      <td>69.0</td>\n      <td>80</td>\n      <td>52</td>\n      <td>80</td>\n      <td>64</td>\n      <td>80</td>\n      <td>...</td>\n      <td>13</td>\n      <td>8</td>\n      <td>8</td>\n      <td>0.72</td>\n      <td>0.83</td>\n      <td>0.77</td>\n      <td>0.770270</td>\n      <td>0.765710</td>\n      <td>0.770270</td>\n      <td>0.615286</td>\n    </tr>\n    <tr>\n      <th>smj00936</th>\n      <td>stacy.johnson@univ.edu</td>\n      <td>2</td>\n      <td>Stacy</td>\n      <td>Johnson</td>\n      <td>74.0</td>\n      <td>80</td>\n      <td>55</td>\n      <td>80</td>\n      <td>60</td>\n      <td>80</td>\n      <td>...</td>\n      <td>7</td>\n      <td>6</td>\n      <td>11</td>\n      <td>0.96</td>\n      <td>0.80</td>\n      <td>0.86</td>\n      <td>0.782432</td>\n      <td>0.787742</td>\n      <td>0.787742</td>\n      <td>0.652174</td>\n    </tr>\n  </tbody>\n</table>\n<p>5 rows × 42 columns</p>\n</div>"
     },
     "execution_count": 82,
     "metadata": {},
     "output_type": "execute_result"
    }
   ],
   "source": [
    "final_df.head()"
   ],
   "metadata": {
    "collapsed": false,
    "ExecuteTime": {
     "end_time": "2024-08-24T04:51:35.904895Z",
     "start_time": "2024-08-24T04:51:35.895358Z"
    }
   },
   "id": "9c85bf4afdc58b52",
   "execution_count": 82
  },
  {
   "cell_type": "markdown",
   "source": [
    "### Final Grade"
   ],
   "metadata": {
    "collapsed": false
   },
   "id": "c5f927e6c32cefa2"
  },
  {
   "cell_type": "code",
   "outputs": [],
   "source": [
    "weights = pd.Series(\n",
    "    {\n",
    "        'Exam 1 Score': 0.05,\n",
    "        'Exam 2 Score': 0.10,\n",
    "        'Exam 3 Score': 0.15,\n",
    "        'Quiz Score': 0.30,\n",
    "        'Homework Score': 0.40\n",
    "    }\n",
    ")"
   ],
   "metadata": {
    "collapsed": false,
    "ExecuteTime": {
     "end_time": "2024-08-24T04:53:25.995839Z",
     "start_time": "2024-08-24T04:53:25.992710Z"
    }
   },
   "id": "78462481c0eb635b",
   "execution_count": 84
  },
  {
   "cell_type": "code",
   "outputs": [],
   "source": [
    "final_df['Final Score'] = (final_df[weights.index] * weights).sum(axis=1)"
   ],
   "metadata": {
    "collapsed": false,
    "ExecuteTime": {
     "end_time": "2024-08-24T04:54:57.014111Z",
     "start_time": "2024-08-24T04:54:57.008939Z"
    }
   },
   "id": "b5acb82e8d1f0e12",
   "execution_count": 87
  },
  {
   "cell_type": "code",
   "outputs": [],
   "source": [
    "final_df['Ceiling Score'] = np.ceil(final_df['Final Score'] * 100)"
   ],
   "metadata": {
    "collapsed": false,
    "ExecuteTime": {
     "end_time": "2024-08-24T04:55:37.819709Z",
     "start_time": "2024-08-24T04:55:37.815455Z"
    }
   },
   "id": "139f603067e795ab",
   "execution_count": 89
  },
  {
   "cell_type": "code",
   "outputs": [],
   "source": [
    "def get_letter_grade(score):\n",
    "    if score >= 90:\n",
    "        return 'A'\n",
    "    elif score >= 80:\n",
    "        return 'B'\n",
    "    elif score >= 70:\n",
    "        return 'C'\n",
    "    elif score >= 60:\n",
    "        return 'D'\n",
    "    else:\n",
    "        return 'F'"
   ],
   "metadata": {
    "collapsed": false,
    "ExecuteTime": {
     "end_time": "2024-08-24T04:57:04.183434Z",
     "start_time": "2024-08-24T04:57:04.180398Z"
    }
   },
   "id": "c728a502339c7de3",
   "execution_count": 90
  },
  {
   "cell_type": "code",
   "outputs": [],
   "source": [
    "letter_grades = final_df['Ceiling Score'].map(get_letter_grade)"
   ],
   "metadata": {
    "collapsed": false,
    "ExecuteTime": {
     "end_time": "2024-08-24T04:59:43.428150Z",
     "start_time": "2024-08-24T04:59:43.424744Z"
    }
   },
   "id": "3d63834f319ed433",
   "execution_count": 94
  },
  {
   "cell_type": "code",
   "outputs": [],
   "source": [
    "final_df['Final Grade'] = pd.Categorical(\n",
    "    letter_grades, categories=['F', 'D', 'C', 'B', 'A'], ordered=True\n",
    ")"
   ],
   "metadata": {
    "collapsed": false,
    "ExecuteTime": {
     "end_time": "2024-08-24T04:59:43.883119Z",
     "start_time": "2024-08-24T04:59:43.877282Z"
    }
   },
   "id": "f30c5118ce0d594d",
   "execution_count": 95
  },
  {
   "cell_type": "code",
   "outputs": [
    {
     "data": {
      "text/plain": "wxb12345    C\nmxl12345    B\ntxj12345    C\njgf12345    C\nsmj00936    C\n           ..\npmj37756    B\ndsl24347    C\nnxe44872    C\nbxr62103    C\njxw53347    C\nName: Final Grade, Length: 150, dtype: category\nCategories (5, object): ['F' < 'D' < 'C' < 'B' < 'A']"
     },
     "execution_count": 96,
     "metadata": {},
     "output_type": "execute_result"
    }
   ],
   "source": [
    "final_df['Final Grade']"
   ],
   "metadata": {
    "collapsed": false,
    "ExecuteTime": {
     "end_time": "2024-08-24T04:59:50.672964Z",
     "start_time": "2024-08-24T04:59:50.667756Z"
    }
   },
   "id": "f66e9876975005e9",
   "execution_count": 96
  },
  {
   "cell_type": "code",
   "outputs": [],
   "source": [
    "cols_to_write = ['Last Name', 'First Name', 'Email Address', 'Ceiling Score', 'Final Grade']"
   ],
   "metadata": {
    "collapsed": false,
    "ExecuteTime": {
     "end_time": "2024-08-24T05:01:40.923491Z",
     "start_time": "2024-08-24T05:01:40.919613Z"
    }
   },
   "id": "cc1d36c64f479d81",
   "execution_count": 97
  },
  {
   "cell_type": "code",
   "outputs": [],
   "source": [
    "for section, df in final_df.groupby('Section'):\n",
    "    section_file = DATA_DIR / f'section_{section}_grades.csv'\n",
    "    df[cols_to_write].sort_values(by=['Last Name', 'First Name']).to_csv(section_file)"
   ],
   "metadata": {
    "collapsed": false,
    "ExecuteTime": {
     "end_time": "2024-08-24T05:09:15.097720Z",
     "start_time": "2024-08-24T05:09:15.083478Z"
    }
   },
   "id": "af9b3a13febf003c",
   "execution_count": 105
  },
  {
   "cell_type": "code",
   "outputs": [
    {
     "data": {
      "text/plain": "Final Grade\nC    102\nB     42\nD      6\nF      0\nA      0\nName: count, dtype: int64"
     },
     "execution_count": 106,
     "metadata": {},
     "output_type": "execute_result"
    }
   ],
   "source": [
    "final_df['Final Grade'].value_counts()"
   ],
   "metadata": {
    "collapsed": false,
    "ExecuteTime": {
     "end_time": "2024-08-24T05:09:40.566802Z",
     "start_time": "2024-08-24T05:09:40.562632Z"
    }
   },
   "id": "2977c1152dcec133",
   "execution_count": 106
  },
  {
   "cell_type": "code",
   "outputs": [],
   "source": [
    "grade_counts = final_df['Final Grade'].value_counts().sort_index()"
   ],
   "metadata": {
    "collapsed": false,
    "ExecuteTime": {
     "end_time": "2024-08-24T05:13:18.244693Z",
     "start_time": "2024-08-24T05:13:18.238456Z"
    }
   },
   "id": "1e4b8c071a4bc0ef",
   "execution_count": 117
  },
  {
   "cell_type": "code",
   "outputs": [
    {
     "data": {
      "text/plain": "<Axes: xlabel='Final Grade'>"
     },
     "execution_count": 118,
     "metadata": {},
     "output_type": "execute_result"
    },
    {
     "data": {
      "text/plain": "<Figure size 640x480 with 1 Axes>",
      "image/png": "[encoded data removed]"
     },
     "metadata": {},
     "output_type": "display_data"
    }
   ],
   "source": [
    "grade_counts.plot.bar()"
   ],
   "metadata": {
    "collapsed": false,
    "ExecuteTime": {
     "end_time": "2024-08-24T05:13:36.338288Z",
     "start_time": "2024-08-24T05:13:36.278571Z"
    }
   },
   "id": "aafe60daf535760c",
   "execution_count": 118
  },
  {
   "cell_type": "code",
   "outputs": [
    {
     "data": {
      "text/plain": "<matplotlib.legend.Legend at 0x11386bf10>"
     },
     "execution_count": 125,
     "metadata": {},
     "output_type": "execute_result"
    },
    {
     "data": {
      "text/plain": "<Figure size 640x480 with 1 Axes>",
      "image/png": "[encoded data removed]"
     },
     "metadata": {},
     "output_type": "display_data"
    }
   ],
   "source": [
    "grade_mean = final_df['Final Score'].mean()\n",
    "grade_std = final_df['Final Score'].std()\n",
    "\n",
    "x = np.linspace(grade_mean - 5*grade_std, grade_mean + 5*grade_std, 200)\n",
    "y = scipy.stats.norm.pdf(x, loc=grade_mean, scale=grade_std)\n",
    "\n",
    "plt.plot(x, y, label = 'Normal Distribution', linewidth = 3)\n",
    "final_df['Final Score'].plot.hist(bins=20, label='Grade Distribution' )\n",
    "\n",
    "final_df['Final Score'].plot.density(\n",
    "    linewidth=3, label='Kernal Density Estimate'\n",
    ")\n",
    "\n",
    "plt.legend()"
   ],
   "metadata": {
    "collapsed": false,
    "ExecuteTime": {
     "end_time": "2024-08-24T05:22:34.121792Z",
     "start_time": "2024-08-24T05:22:34.002623Z"
    }
   },
   "id": "c57d0262017f5977",
   "execution_count": 125
  },
  {
   "cell_type": "code",
   "outputs": [],
   "source": [],
   "metadata": {
    "collapsed": false
   },
   "id": "4fa3b3921234e5ac"
  }
 ],
 "metadata": {
  "kernelspec": {
   "display_name": "Python 3",
   "language": "python",
   "name": "python3"
  },
  "language_info": {
   "codemirror_mode": {
    "name": "ipython",
    "version": 2
   },
   "file_extension": ".py",
   "mimetype": "text/x-python",
   "name": "python",
   "nbconvert_exporter": "python",
   "pygments_lexer": "ipython2",
   "version": "2.7.6"
  }
 },
 "nbformat": 4,
 "nbformat_minor": 5
}
